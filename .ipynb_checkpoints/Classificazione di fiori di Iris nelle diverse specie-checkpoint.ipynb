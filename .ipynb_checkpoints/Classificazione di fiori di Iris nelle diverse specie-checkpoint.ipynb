{
 "cells": [
  {
   "cell_type": "markdown",
   "metadata": {},
   "source": [
    "# Classificazione di fiori di Iris nelle diverse specie\n",
    "\n",
    "**Progetto per il corso di Programmazione di Applicazioni Data Intensive**  \n",
    "Laurea in Ingegneria e Scienze Informatiche, Università di Bologna\n",
    "\n",
    "Lorenzo Paganelli  \n",
    "lorenzo.paganelli3@studio.unibo.it"
   ]
  },
  {
   "cell_type": "markdown",
   "metadata": {},
   "source": [
    "## Introduzione\n",
    "\n",
    "_Iris_ è un genere di piante della famiglia delle Iridaceae, che comprende oltre 300 specie. Noi prendiamo in considerazione unicamente tre specie: **Iris virginica**, **Iris setosa** e **Iris versicolor**, ciò che vogliamo fare è classificare i fiori di iris nelle diverse specie menzionate, sulla base di un insieme di caratteristiche. In particolare vengono considerate quattro caratteristiche per ciascun fiore:\n",
    "- **`SepalLengthCm`**: Lunghezza del sepalo in cm\n",
    "- **`SepalWidthCm`**: Larghezza del sepalo in cm\n",
    "- **`PetalLengthCm`**: Lunghezza del petalo in cm\n",
    "- **`PetalWidthCm`**: Larghezza del petalo in cm\n",
    "\n",
    "Si prendono cioè in considerazione due tratti caratteristici del fiore: il **sepalo** e il **petalo**, per ciascuno di questi si conosce la lunghezza e la larghezza. Si sappia che il **sepalo** è una foglia modificata che fa parte del calice del fiore"
   ]
  },
  {
   "cell_type": "markdown",
   "metadata": {},
   "source": [
    "## Analisi esplorativa\n",
    "\n",
    "Importiamo le librerie necessarie e scarichiamo il dataset, se non è già presente"
   ]
  },
  {
   "cell_type": "code",
   "execution_count": 1,
   "metadata": {},
   "outputs": [],
   "source": [
    "%matplotlib inline\n",
    "import numpy as np\n",
    "import pandas as pd\n",
    "import matplotlib.pyplot as plt"
   ]
  },
  {
   "cell_type": "code",
   "execution_count": 2,
   "metadata": {},
   "outputs": [],
   "source": [
    "import os.path\n",
    "if not os.path.exists(\"Iris.csv\"):\n",
    "    from urllib.request import urlretrieve\n",
    "    urlretrieve(\"https://bitbucket.org/paagamelo/iris-species/downloads/Iris.csv\", \"Iris.csv\")"
   ]
  },
  {
   "cell_type": "markdown",
   "metadata": {},
   "source": [
    "Il dataset viene convertito in un DataFrame pandas, per renderlo meglio fruibile"
   ]
  },
  {
   "cell_type": "code",
   "execution_count": 3,
   "metadata": {},
   "outputs": [],
   "source": [
    "iris = pd.read_csv(\"Iris.csv\", index_col=\"Id\", dtype={\"Species\": \"category\"})"
   ]
  },
  {
   "cell_type": "markdown",
   "metadata": {},
   "source": [
    "Osserviamo un estratto del DataFrame: questo ha 5 colonne, come intuibile, contenenti le quattro caratteristiche menzionate prima e l'informazione sulla specie di ciascuna osservazione"
   ]
  },
  {
   "cell_type": "code",
   "execution_count": 4,
   "metadata": {},
   "outputs": [
    {
     "data": {
      "text/html": [
       "<div>\n",
       "<style scoped>\n",
       "    .dataframe tbody tr th:only-of-type {\n",
       "        vertical-align: middle;\n",
       "    }\n",
       "\n",
       "    .dataframe tbody tr th {\n",
       "        vertical-align: top;\n",
       "    }\n",
       "\n",
       "    .dataframe thead th {\n",
       "        text-align: right;\n",
       "    }\n",
       "</style>\n",
       "<table border=\"1\" class=\"dataframe\">\n",
       "  <thead>\n",
       "    <tr style=\"text-align: right;\">\n",
       "      <th></th>\n",
       "      <th>SepalLengthCm</th>\n",
       "      <th>SepalWidthCm</th>\n",
       "      <th>PetalLengthCm</th>\n",
       "      <th>PetalWidthCm</th>\n",
       "      <th>Species</th>\n",
       "    </tr>\n",
       "    <tr>\n",
       "      <th>Id</th>\n",
       "      <th></th>\n",
       "      <th></th>\n",
       "      <th></th>\n",
       "      <th></th>\n",
       "      <th></th>\n",
       "    </tr>\n",
       "  </thead>\n",
       "  <tbody>\n",
       "    <tr>\n",
       "      <th>1</th>\n",
       "      <td>5.1</td>\n",
       "      <td>3.5</td>\n",
       "      <td>1.4</td>\n",
       "      <td>0.2</td>\n",
       "      <td>Iris-setosa</td>\n",
       "    </tr>\n",
       "    <tr>\n",
       "      <th>2</th>\n",
       "      <td>4.9</td>\n",
       "      <td>3.0</td>\n",
       "      <td>1.4</td>\n",
       "      <td>0.2</td>\n",
       "      <td>Iris-setosa</td>\n",
       "    </tr>\n",
       "    <tr>\n",
       "      <th>3</th>\n",
       "      <td>4.7</td>\n",
       "      <td>3.2</td>\n",
       "      <td>1.3</td>\n",
       "      <td>0.2</td>\n",
       "      <td>Iris-setosa</td>\n",
       "    </tr>\n",
       "  </tbody>\n",
       "</table>\n",
       "</div>"
      ],
      "text/plain": [
       "    SepalLengthCm  SepalWidthCm  PetalLengthCm  PetalWidthCm      Species\n",
       "Id                                                                       \n",
       "1             5.1           3.5            1.4           0.2  Iris-setosa\n",
       "2             4.9           3.0            1.4           0.2  Iris-setosa\n",
       "3             4.7           3.2            1.3           0.2  Iris-setosa"
      ]
     },
     "execution_count": 4,
     "metadata": {},
     "output_type": "execute_result"
    }
   ],
   "source": [
    "iris.head(3)"
   ]
  },
  {
   "cell_type": "markdown",
   "metadata": {},
   "source": [
    "Osserviamo ora la _forma_ del DataFrame: disponiamo di 150 osservazioni in tutto, quindi il dataset è piuttosto ridotto. Tipicamente i modelli di conoscenza allenati su insiemi di dati ridotti tendono ad andare facilmente in overfitting, questo perchè meno dati ci sono tanti più sono i modelli che riescono a descrivere lo stesso fenomeno"
   ]
  },
  {
   "cell_type": "code",
   "execution_count": 5,
   "metadata": {},
   "outputs": [
    {
     "data": {
      "text/plain": [
       "(150, 5)"
      ]
     },
     "execution_count": 5,
     "metadata": {},
     "output_type": "execute_result"
    }
   ],
   "source": [
    "iris.shape"
   ]
  },
  {
   "cell_type": "markdown",
   "metadata": {},
   "source": [
    "Verifichiamo la presenza di valori mancanti, in questo caso non ce ne sono"
   ]
  },
  {
   "cell_type": "code",
   "execution_count": 6,
   "metadata": {},
   "outputs": [
    {
     "data": {
      "text/plain": [
       "SepalLengthCm    False\n",
       "SepalWidthCm     False\n",
       "PetalLengthCm    False\n",
       "PetalWidthCm     False\n",
       "Species          False\n",
       "dtype: bool"
      ]
     },
     "execution_count": 6,
     "metadata": {},
     "output_type": "execute_result"
    }
   ],
   "source": [
    "iris.isnull().any()"
   ]
  },
  {
   "cell_type": "markdown",
   "metadata": {},
   "source": [
    "Con il metodo `describe()` otteniamo una serie di statistiche sulle colonne numeriche del DataFrame, cioè tutte a parte quella relativa alla specie"
   ]
  },
  {
   "cell_type": "code",
   "execution_count": 7,
   "metadata": {},
   "outputs": [
    {
     "data": {
      "text/html": [
       "<div>\n",
       "<style scoped>\n",
       "    .dataframe tbody tr th:only-of-type {\n",
       "        vertical-align: middle;\n",
       "    }\n",
       "\n",
       "    .dataframe tbody tr th {\n",
       "        vertical-align: top;\n",
       "    }\n",
       "\n",
       "    .dataframe thead th {\n",
       "        text-align: right;\n",
       "    }\n",
       "</style>\n",
       "<table border=\"1\" class=\"dataframe\">\n",
       "  <thead>\n",
       "    <tr style=\"text-align: right;\">\n",
       "      <th></th>\n",
       "      <th>SepalLengthCm</th>\n",
       "      <th>SepalWidthCm</th>\n",
       "      <th>PetalLengthCm</th>\n",
       "      <th>PetalWidthCm</th>\n",
       "    </tr>\n",
       "  </thead>\n",
       "  <tbody>\n",
       "    <tr>\n",
       "      <th>count</th>\n",
       "      <td>150.000000</td>\n",
       "      <td>150.000000</td>\n",
       "      <td>150.000000</td>\n",
       "      <td>150.000000</td>\n",
       "    </tr>\n",
       "    <tr>\n",
       "      <th>mean</th>\n",
       "      <td>5.843333</td>\n",
       "      <td>3.054000</td>\n",
       "      <td>3.758667</td>\n",
       "      <td>1.198667</td>\n",
       "    </tr>\n",
       "    <tr>\n",
       "      <th>std</th>\n",
       "      <td>0.828066</td>\n",
       "      <td>0.433594</td>\n",
       "      <td>1.764420</td>\n",
       "      <td>0.763161</td>\n",
       "    </tr>\n",
       "    <tr>\n",
       "      <th>min</th>\n",
       "      <td>4.300000</td>\n",
       "      <td>2.000000</td>\n",
       "      <td>1.000000</td>\n",
       "      <td>0.100000</td>\n",
       "    </tr>\n",
       "    <tr>\n",
       "      <th>25%</th>\n",
       "      <td>5.100000</td>\n",
       "      <td>2.800000</td>\n",
       "      <td>1.600000</td>\n",
       "      <td>0.300000</td>\n",
       "    </tr>\n",
       "    <tr>\n",
       "      <th>50%</th>\n",
       "      <td>5.800000</td>\n",
       "      <td>3.000000</td>\n",
       "      <td>4.350000</td>\n",
       "      <td>1.300000</td>\n",
       "    </tr>\n",
       "    <tr>\n",
       "      <th>75%</th>\n",
       "      <td>6.400000</td>\n",
       "      <td>3.300000</td>\n",
       "      <td>5.100000</td>\n",
       "      <td>1.800000</td>\n",
       "    </tr>\n",
       "    <tr>\n",
       "      <th>max</th>\n",
       "      <td>7.900000</td>\n",
       "      <td>4.400000</td>\n",
       "      <td>6.900000</td>\n",
       "      <td>2.500000</td>\n",
       "    </tr>\n",
       "  </tbody>\n",
       "</table>\n",
       "</div>"
      ],
      "text/plain": [
       "       SepalLengthCm  SepalWidthCm  PetalLengthCm  PetalWidthCm\n",
       "count     150.000000    150.000000     150.000000    150.000000\n",
       "mean        5.843333      3.054000       3.758667      1.198667\n",
       "std         0.828066      0.433594       1.764420      0.763161\n",
       "min         4.300000      2.000000       1.000000      0.100000\n",
       "25%         5.100000      2.800000       1.600000      0.300000\n",
       "50%         5.800000      3.000000       4.350000      1.300000\n",
       "75%         6.400000      3.300000       5.100000      1.800000\n",
       "max         7.900000      4.400000       6.900000      2.500000"
      ]
     },
     "execution_count": 7,
     "metadata": {},
     "output_type": "execute_result"
    }
   ],
   "source": [
    "iris.describe()"
   ]
  },
  {
   "cell_type": "markdown",
   "metadata": {},
   "source": [
    "Una prima informazione ricavabile è che i dati relativi al petalo risultano molto più _variabili_ di quelli relativi al sepalo. Infatti la deviazione standard media delle informazioni sul **sepalo** è:"
   ]
  },
  {
   "cell_type": "code",
   "execution_count": 8,
   "metadata": {},
   "outputs": [
    {
     "data": {
      "text/plain": [
       "0.6308302196700183"
      ]
     },
     "execution_count": 8,
     "metadata": {},
     "output_type": "execute_result"
    }
   ],
   "source": [
    "iris.describe().loc[\"std\", [\"SepalLengthCm\", \"SepalWidthCm\"]].mean()"
   ]
  },
  {
   "cell_type": "markdown",
   "metadata": {},
   "source": [
    "Mentre la deviazione standard media delle informazioni sul **petalo** è circa il doppio:"
   ]
  },
  {
   "cell_type": "code",
   "execution_count": 9,
   "metadata": {},
   "outputs": [
    {
     "data": {
      "text/plain": [
       "1.2637905808265515"
      ]
     },
     "execution_count": 9,
     "metadata": {},
     "output_type": "execute_result"
    }
   ],
   "source": [
    "iris.describe().loc[\"std\", [\"PetalLengthCm\", \"PetalWidthCm\"]].mean()"
   ]
  },
  {
   "cell_type": "markdown",
   "metadata": {},
   "source": [
    "Consideriamo ora la colonna `Species`, mostrando la frequenza delle diverse specie in un grafico a torta. Osserviamo che il dataset è perfettamente bilanciato"
   ]
  },
  {
   "cell_type": "code",
   "execution_count": 10,
   "metadata": {},
   "outputs": [
    {
     "data": {
      "text/plain": [
       "Text(0, 0.5, '')"
      ]
     },
     "execution_count": 10,
     "metadata": {},
     "output_type": "execute_result"
    },
    {
     "data": {
      "image/png": "[encoded data removed]",
      "text/plain": [
       "<Figure size 432x288 with 1 Axes>"
      ]
     },
     "metadata": {},
     "output_type": "display_data"
    }
   ],
   "source": [
    "chart = iris[\"Species\"].value_counts().plot.pie()\n",
    "chart.set_title(\"Species\")\n",
    "chart.set_ylabel('')"
   ]
  },
  {
   "cell_type": "markdown",
   "metadata": {},
   "source": [
    "Analizziamo ora le colonne numeriche del DataFrame, visualizzando per ciascuna un istogramma e una raccolta di statistiche ottenibili con il metodo `describe()`"
   ]
  },
  {
   "cell_type": "markdown",
   "metadata": {},
   "source": [
    "Osserviamo che i dati relativi alla **lunghezza del _sepalo_** presentano tre picchi distinti, potrebbe essere che ciascun picco sia relativo a una delle tre specie. In realtà, come vedremo poi, non è così"
   ]
  },
  {
   "cell_type": "code",
   "execution_count": 11,
   "metadata": {},
   "outputs": [
    {
     "data": {
      "text/plain": [
       "<matplotlib.axes._subplots.AxesSubplot at 0x121016c50>"
      ]
     },
     "execution_count": 11,
     "metadata": {},
     "output_type": "execute_result"
    },
    {
     "data": {
      "image/png": "[encoded data removed]",
      "text/plain": [
       "<Figure size 432x288 with 1 Axes>"
      ]
     },
     "metadata": {
      "needs_background": "light"
     },
     "output_type": "display_data"
    }
   ],
   "source": [
    "iris[\"SepalLengthCm\"].plot.hist()"
   ]
  },
  {
   "cell_type": "code",
   "execution_count": 12,
   "metadata": {},
   "outputs": [
    {
     "data": {
      "text/plain": [
       "count    150.000000\n",
       "mean       5.843333\n",
       "std        0.828066\n",
       "min        4.300000\n",
       "25%        5.100000\n",
       "50%        5.800000\n",
       "75%        6.400000\n",
       "max        7.900000\n",
       "Name: SepalLengthCm, dtype: float64"
      ]
     },
     "execution_count": 12,
     "metadata": {},
     "output_type": "execute_result"
    }
   ],
   "source": [
    "iris[\"SepalLengthCm\"].describe()"
   ]
  },
  {
   "cell_type": "markdown",
   "metadata": {},
   "source": [
    "Al contrario, i dati relativi alla **larghezza del _sepalo_** risultano ben distribuiti, mostrando un \"andamento\" gaussiano"
   ]
  },
  {
   "cell_type": "code",
   "execution_count": 13,
   "metadata": {},
   "outputs": [
    {
     "data": {
      "text/plain": [
       "<matplotlib.axes._subplots.AxesSubplot at 0x121103588>"
      ]
     },
     "execution_count": 13,
     "metadata": {},
     "output_type": "execute_result"
    },
    {
     "data": {
      "image/png": "[encoded data removed]",
      "text/plain": [
       "<Figure size 432x288 with 1 Axes>"
      ]
     },
     "metadata": {
      "needs_background": "light"
     },
     "output_type": "display_data"
    }
   ],
   "source": [
    "iris[\"SepalWidthCm\"].plot.hist()"
   ]
  },
  {
   "cell_type": "code",
   "execution_count": 14,
   "metadata": {},
   "outputs": [
    {
     "data": {
      "text/plain": [
       "count    150.000000\n",
       "mean       3.054000\n",
       "std        0.433594\n",
       "min        2.000000\n",
       "25%        2.800000\n",
       "50%        3.000000\n",
       "75%        3.300000\n",
       "max        4.400000\n",
       "Name: SepalWidthCm, dtype: float64"
      ]
     },
     "execution_count": 14,
     "metadata": {},
     "output_type": "execute_result"
    }
   ],
   "source": [
    "iris[\"SepalWidthCm\"].describe()"
   ]
  },
  {
   "cell_type": "markdown",
   "metadata": {},
   "source": [
    "Osserviamo poi che i dati relativi alla **lunghezza del _petalo_** presentano un andamento chiaramente bimodale, ossia sono presenti due picchi ben distinti"
   ]
  },
  {
   "cell_type": "code",
   "execution_count": 15,
   "metadata": {},
   "outputs": [
    {
     "data": {
      "text/plain": [
       "<matplotlib.axes._subplots.AxesSubplot at 0x1211e8ac8>"
      ]
     },
     "execution_count": 15,
     "metadata": {},
     "output_type": "execute_result"
    },
    {
     "data": {
      "image/png": "[encoded data removed]",
      "text/plain": [
       "<Figure size 432x288 with 1 Axes>"
      ]
     },
     "metadata": {
      "needs_background": "light"
     },
     "output_type": "display_data"
    }
   ],
   "source": [
    "iris[\"PetalLengthCm\"].plot.hist()"
   ]
  },
  {
   "cell_type": "code",
   "execution_count": 16,
   "metadata": {},
   "outputs": [
    {
     "data": {
      "text/plain": [
       "count    150.000000\n",
       "mean       3.758667\n",
       "std        1.764420\n",
       "min        1.000000\n",
       "25%        1.600000\n",
       "50%        4.350000\n",
       "75%        5.100000\n",
       "max        6.900000\n",
       "Name: PetalLengthCm, dtype: float64"
      ]
     },
     "execution_count": 16,
     "metadata": {},
     "output_type": "execute_result"
    }
   ],
   "source": [
    "iris[\"PetalLengthCm\"].describe()"
   ]
  },
  {
   "cell_type": "markdown",
   "metadata": {},
   "source": [
    "Lo stesso si può dire dei dati relativi alla **larghezza del _petalo_**"
   ]
  },
  {
   "cell_type": "code",
   "execution_count": 17,
   "metadata": {},
   "outputs": [
    {
     "data": {
      "text/plain": [
       "<matplotlib.axes._subplots.AxesSubplot at 0x1212bcf60>"
      ]
     },
     "execution_count": 17,
     "metadata": {},
     "output_type": "execute_result"
    },
    {
     "data": {
      "image/png": "[encoded data removed]",
      "text/plain": [
       "<Figure size 432x288 with 1 Axes>"
      ]
     },
     "metadata": {
      "needs_background": "light"
     },
     "output_type": "display_data"
    }
   ],
   "source": [
    "iris[\"PetalWidthCm\"].plot.hist()"
   ]
  },
  {
   "cell_type": "code",
   "execution_count": 18,
   "metadata": {},
   "outputs": [
    {
     "data": {
      "text/plain": [
       "count    150.000000\n",
       "mean       1.198667\n",
       "std        0.763161\n",
       "min        0.100000\n",
       "25%        0.300000\n",
       "50%        1.300000\n",
       "75%        1.800000\n",
       "max        2.500000\n",
       "Name: PetalWidthCm, dtype: float64"
      ]
     },
     "execution_count": 18,
     "metadata": {},
     "output_type": "execute_result"
    }
   ],
   "source": [
    "iris[\"PetalWidthCm\"].describe()"
   ]
  },
  {
   "cell_type": "markdown",
   "metadata": {},
   "source": [
    "Vogliamo ora mostrare la correlazione tra alcune coppie di feature, visualizzando un piano cartesiano con una feature su ciascun asse e con le nostre osservazioni colorate in modo differente a seconda della specie. Definiamo una funzione che ci permetta di fare questo"
   ]
  },
  {
   "cell_type": "code",
   "execution_count": 19,
   "metadata": {},
   "outputs": [],
   "source": [
    "species_colors = {\"Iris-virginica\": \"firebrick\", \"Iris-setosa\": \"royalblue\", \"Iris-versicolor\": \"seagreen\"}\n",
    "def plot_features(x, y):\n",
    "    for species, color in species_colors.items():\n",
    "        plt.scatter(x[iris[\"Species\"] == species], y[iris[\"Species\"] == species], c=color, label=species, alpha=0.8)\n",
    "    plt.xlabel(x.name)\n",
    "    plt.ylabel(y.name)\n",
    "    plt.legend()"
   ]
  },
  {
   "cell_type": "markdown",
   "metadata": {},
   "source": [
    "Visualizziamo prima le informazioni sul **petalo** (lunghezza e larghezza), osserviamo che queste già da sole ci permettono di distinguere le diverse specie in modo piuttosto efficace"
   ]
  },
  {
   "cell_type": "code",
   "execution_count": 20,
   "metadata": {},
   "outputs": [
    {
     "data": {
      "image/png": "[encoded data removed]",
      "text/plain": [
       "<Figure size 432x288 with 1 Axes>"
      ]
     },
     "metadata": {
      "needs_background": "light"
     },
     "output_type": "display_data"
    }
   ],
   "source": [
    "plot_features(iris[\"PetalLengthCm\"], iris[\"PetalWidthCm\"])"
   ]
  },
  {
   "cell_type": "markdown",
   "metadata": {},
   "source": [
    "Visualizziamo anche le informazioni sul **sepalo** (lunghezza e larghezza): queste al contrario non permettono di distinguere i nostri dati in modo soddisfacente. In particolare le osservazioni di _iris virginica_ e _iris versicolor_ non vengono separate"
   ]
  },
  {
   "cell_type": "code",
   "execution_count": 21,
   "metadata": {},
   "outputs": [
    {
     "data": {
      "image/png": "[encoded data removed]",
      "text/plain": [
       "<Figure size 432x288 with 1 Axes>"
      ]
     },
     "metadata": {
      "needs_background": "light"
     },
     "output_type": "display_data"
    }
   ],
   "source": [
    "plot_features(iris[\"SepalLengthCm\"], iris[\"SepalWidthCm\"])"
   ]
  },
  {
   "cell_type": "markdown",
   "metadata": {},
   "source": [
    "Visualizziamo ora le informazioni relative alla **lunghezza** dei due tratti, anche queste ci permettono di separare i nostri dati in modo efficace "
   ]
  },
  {
   "cell_type": "code",
   "execution_count": 22,
   "metadata": {},
   "outputs": [
    {
     "data": {
      "image/png": "[encoded data removed]",
      "text/plain": [
       "<Figure size 432x288 with 1 Axes>"
      ]
     },
     "metadata": {
      "needs_background": "light"
     },
     "output_type": "display_data"
    }
   ],
   "source": [
    "plot_features(iris[\"PetalLengthCm\"], iris[\"SepalLengthCm\"])"
   ]
  },
  {
   "cell_type": "markdown",
   "metadata": {},
   "source": [
    "Lo stesso si può dire delle informazioni relative alla **larghezza** dei tratti"
   ]
  },
  {
   "cell_type": "code",
   "execution_count": 23,
   "metadata": {},
   "outputs": [
    {
     "data": {
      "image/png": "[encoded data removed]",
      "text/plain": [
       "<Figure size 432x288 with 1 Axes>"
      ]
     },
     "metadata": {
      "needs_background": "light"
     },
     "output_type": "display_data"
    }
   ],
   "source": [
    "plot_features(iris[\"PetalWidthCm\"], iris[\"SepalWidthCm\"])"
   ]
  },
  {
   "cell_type": "markdown",
   "metadata": {},
   "source": [
    "## Primo modello\n",
    "\n",
    "Vogliamo costruire un primo modello usando unicamente le informazioni relative al **petalo** dei fiori (lunghezza e larghezza), in questo modo - avendo solo due feature - sarà possibile dare una rappresentazione grafica degli iperpiani trovati"
   ]
  },
  {
   "cell_type": "markdown",
   "metadata": {},
   "source": [
    "Creiamo un nuovo DataFrame `iris_petal` ottenuto dal DataFrame originale rimuovendo le colonne relative al sepalo"
   ]
  },
  {
   "cell_type": "code",
   "execution_count": 24,
   "metadata": {},
   "outputs": [],
   "source": [
    "iris_petal = iris.copy()\n",
    "iris_petal.drop([\"SepalLengthCm\", \"SepalWidthCm\"], axis=1, inplace=True)"
   ]
  },
  {
   "cell_type": "markdown",
   "metadata": {},
   "source": [
    "Convertiamo la colonna categorica `Species` in una colonna numerica, assegnando a ciascuna specie un numero intero crescente partendo da 1. D'ora in poi si farà riferimento a tale numero come come \"codice di una specie\""
   ]
  },
  {
   "cell_type": "code",
   "execution_count": 25,
   "metadata": {},
   "outputs": [
    {
     "data": {
      "text/plain": [
       "3    50\n",
       "2    50\n",
       "1    50\n",
       "Name: Species, dtype: int64"
      ]
     },
     "execution_count": 25,
     "metadata": {},
     "output_type": "execute_result"
    }
   ],
   "source": [
    "species_codes = {\"Iris-virginica\": 1, \"Iris-setosa\": 2, \"Iris-versicolor\": 3}\n",
    "iris_petal[\"Species\"] = iris_petal[\"Species\"].map(species_codes)\n",
    "iris_petal[\"Species\"].value_counts()"
   ]
  },
  {
   "cell_type": "markdown",
   "metadata": {},
   "source": [
    "Nel caso di classificazione multiclasse con iperpiani ci sono due approcci possibili:\n",
    "- **One versus all** (o **one versus rest**)\n",
    "- **Multinomial**\n",
    "\n",
    "Nel nostro caso scegliamo l'approccio **one vs all**, questo prevede l'indivduazione di un numero di iperpiani pari al numero di classi (nel nostro caso 3): ciascuno deve separare una classe dal resto del mondo. Inoltre l'individuazione di ogni iperpiano è indipendente dalle altre"
   ]
  },
  {
   "cell_type": "markdown",
   "metadata": {},
   "source": [
    "Iniziamo con l'individuare un iperpiano che separi le osservazioni di _iris virginica_ dalle altre, creiamo una serie `target` in cui le osservazioni della specie di interesse conservano il proprio codice, mentre le osservazioni relative al resto del mondo presentano valore 0"
   ]
  },
  {
   "cell_type": "code",
   "execution_count": 26,
   "metadata": {},
   "outputs": [
    {
     "data": {
      "text/plain": [
       "0    100\n",
       "1     50\n",
       "Name: Species, dtype: int64"
      ]
     },
     "execution_count": 26,
     "metadata": {},
     "output_type": "execute_result"
    }
   ],
   "source": [
    "target = iris_petal[\"Species\"].copy()\n",
    "target[iris[\"Species\"] != \"Iris-virginica\"] = 0\n",
    "target.value_counts()"
   ]
  },
  {
   "cell_type": "markdown",
   "metadata": {},
   "source": [
    "Definiamo una funzione che ci permetta di visualizzare in un grafico quali osservazioni si vogliono separare dal resto del mondo "
   ]
  },
  {
   "cell_type": "code",
   "execution_count": 27,
   "metadata": {},
   "outputs": [],
   "source": [
    "def plot_target(label):\n",
    "    plt.scatter(iris[\"PetalLengthCm\"][target != 0], iris[\"PetalWidthCm\"][target != 0], c=\"firebrick\", label=label, alpha=0.8)\n",
    "    plt.scatter(iris[\"PetalLengthCm\"][target == 0], iris[\"PetalWidthCm\"][target == 0], c=\"royalblue\", label=\"others\", alpha=0.8)\n",
    "    plt.legend()\n",
    "    plt.xlabel(\"PetalLengthCm\")\n",
    "    plt.ylabel(\"PetalWidthCm\")"
   ]
  },
  {
   "cell_type": "markdown",
   "metadata": {},
   "source": [
    "Nonostante le osservazioni di _iris virginica_ non siano linearmente separabili dal resto del mondo, visivamente è chiaro che possiamo comunque usare una retta come _decision boundary_ in modo efficace"
   ]
  },
  {
   "cell_type": "code",
   "execution_count": 28,
   "metadata": {
    "scrolled": true
   },
   "outputs": [
    {
     "data": {
      "image/png": "[encoded data removed]",
      "text/plain": [
       "<Figure size 432x288 with 1 Axes>"
      ]
     },
     "metadata": {
      "needs_background": "light"
     },
     "output_type": "display_data"
    }
   ],
   "source": [
    "plot_target(\"Iris-virginica\")"
   ]
  },
  {
   "cell_type": "markdown",
   "metadata": {},
   "source": [
    "Separiamo i nostri dati in training set e validation set, usiamo la serie `target` come colonna y da predire"
   ]
  },
  {
   "cell_type": "code",
   "execution_count": 29,
   "metadata": {},
   "outputs": [],
   "source": [
    "from sklearn.model_selection import train_test_split\n",
    "X_train, X_val, y_train, y_val = train_test_split(\n",
    "    iris_petal.drop([\"Species\"], axis=1),\n",
    "    target,\n",
    "    test_size=1/3, random_state=42\n",
    ")"
   ]
  },
  {
   "cell_type": "markdown",
   "metadata": {},
   "source": [
    "Silenziamo i warning che risultano piuttosto fastidiosi se si sta eseguendo il codice in jupyter"
   ]
  },
  {
   "cell_type": "code",
   "execution_count": 30,
   "metadata": {},
   "outputs": [],
   "source": [
    "import warnings\n",
    "warnings.filterwarnings('ignore')"
   ]
  },
  {
   "cell_type": "markdown",
   "metadata": {},
   "source": [
    "Scegliamo un modello \"base\" per la classificazione: il `Perceptron`. Il parametro `max_iter` indica il numero massimo di iterazioni dopo le quali l'algoritmo arriva a convergenza, di default questo è 1000, lo aumentiamo in modo da avere più precisione"
   ]
  },
  {
   "cell_type": "code",
   "execution_count": 31,
   "metadata": {},
   "outputs": [
    {
     "data": {
      "text/plain": [
       "1.0"
      ]
     },
     "execution_count": 31,
     "metadata": {},
     "output_type": "execute_result"
    }
   ],
   "source": [
    "from sklearn.linear_model import Perceptron\n",
    "model1 = Perceptron(max_iter=1000000)\n",
    "model1.fit(X_train, y_train)\n",
    "model1.score(X_val, y_val)"
   ]
  },
  {
   "cell_type": "markdown",
   "metadata": {},
   "source": [
    "Definiamo una funziona che ci permetta di visualizzare il _decision boundary_ che abbiamo ricavato"
   ]
  },
  {
   "cell_type": "code",
   "execution_count": 32,
   "metadata": {},
   "outputs": [],
   "source": [
    "def plot_decision_boundary(X, y, model, c=\"r\"):\n",
    "    # Step size of the mesh. Decrease to increase the quality of the VQ.\n",
    "    h = .01     # point in the mesh [x_min, m_max]x[y_min, y_max].    \n",
    "    \n",
    "    # Plot the decision boundary. For that, we will assign a color to each\n",
    "    x_min, x_max = X.iloc[:, 0].min() - 1, X.iloc[:, 0].max() + 1\n",
    "    y_min, y_max = X.iloc[:, 1].min() - 1, X.iloc[:, 1].max() + 1\n",
    "    xx, yy = np.meshgrid(np.arange(x_min, x_max, h), np.arange(y_min, y_max, h))\n",
    "\n",
    "    # Obtain labels for each point in mesh using the model.\n",
    "    Z = model.predict(np.c_[xx.ravel(), yy.ravel()])    \n",
    "\n",
    "    x_min, x_max = X.iloc[:, 0].min() - 1, X.iloc[:, 0].max() + 1\n",
    "    y_min, y_max = X.iloc[:, 1].min() - 1, X.iloc[:, 1].max() + 1\n",
    "    xx, yy = np.meshgrid(np.arange(x_min, x_max, 0.01),\n",
    "                         np.arange(y_min, y_max, 0.01))\n",
    "\n",
    "    Z = model.predict(np.c_[xx.ravel(), yy.ravel()]).reshape(xx.shape)\n",
    "\n",
    "    #plt.scatter(X.iloc[:, 0], X.iloc[:, 1], c=iris[\"Species\"].map(species_colors), alpha=0.8)\n",
    "    xlim, ylim = plt.xlim(), plt.ylim()\n",
    "    plt.xlim(xlim); plt.ylim(ylim)\n",
    "    plt.contour(xx, yy, Z, alpha=0.4, colors=c)"
   ]
  },
  {
   "cell_type": "markdown",
   "metadata": {},
   "source": [
    "Visivamente il risultato è soddisfacente"
   ]
  },
  {
   "cell_type": "code",
   "execution_count": 33,
   "metadata": {},
   "outputs": [
    {
     "data": {
      "image/png": "[encoded data removed]",
      "text/plain": [
       "<Figure size 432x288 with 1 Axes>"
      ]
     },
     "metadata": {
      "needs_background": "light"
     },
     "output_type": "display_data"
    }
   ],
   "source": [
    "plot_target(\"Iris-virginica\")\n",
    "plot_decision_boundary(iris_petal.drop([\"Species\"], axis=1), target, model1)"
   ]
  },
  {
   "cell_type": "markdown",
   "metadata": {},
   "source": [
    "Procediamo ora con l'individuazione di un iperpiano che separi le osservazioni di _iris setosa_ dalle altre, aggiorniamo la serie `target` di conseguenza"
   ]
  },
  {
   "cell_type": "code",
   "execution_count": 34,
   "metadata": {},
   "outputs": [
    {
     "data": {
      "text/plain": [
       "0    100\n",
       "2     50\n",
       "Name: Species, dtype: int64"
      ]
     },
     "execution_count": 34,
     "metadata": {},
     "output_type": "execute_result"
    }
   ],
   "source": [
    "target = iris_petal[\"Species\"].copy()\n",
    "target[iris[\"Species\"] != \"Iris-setosa\"] = 0\n",
    "target.value_counts()"
   ]
  },
  {
   "cell_type": "markdown",
   "metadata": {},
   "source": [
    "In questo caso le osservazioni di interesse sono linearmente separabili dal resto del mondo"
   ]
  },
  {
   "cell_type": "code",
   "execution_count": 35,
   "metadata": {},
   "outputs": [
    {
     "data": {
      "image/png": "[encoded data removed]",
      "text/plain": [
       "<Figure size 432x288 with 1 Axes>"
      ]
     },
     "metadata": {
      "needs_background": "light"
     },
     "output_type": "display_data"
    }
   ],
   "source": [
    "plot_target(\"Iris-setosa\")"
   ]
  },
  {
   "cell_type": "markdown",
   "metadata": {},
   "source": [
    "Dividiamo dunque i dati in training e validation set (è necessario farlo ancora in quanto la colonna target è mutata) e addestriamo un modello lineare, allo stesso modo di prima"
   ]
  },
  {
   "cell_type": "code",
   "execution_count": 36,
   "metadata": {},
   "outputs": [],
   "source": [
    "X_train, X_val, y_train, y_val = train_test_split(\n",
    "    iris_petal.drop([\"Species\"], axis=1),\n",
    "    target,            \n",
    "    test_size=1/3, random_state=42\n",
    ")"
   ]
  },
  {
   "cell_type": "code",
   "execution_count": 37,
   "metadata": {},
   "outputs": [
    {
     "data": {
      "text/plain": [
       "1.0"
      ]
     },
     "execution_count": 37,
     "metadata": {},
     "output_type": "execute_result"
    }
   ],
   "source": [
    "model2 = Perceptron()\n",
    "model2.fit(X_train, y_train)\n",
    "model2.score(X_val, y_val)"
   ]
  },
  {
   "cell_type": "markdown",
   "metadata": {},
   "source": [
    "Visualizziamo infine l'iperpiano trovato"
   ]
  },
  {
   "cell_type": "code",
   "execution_count": 38,
   "metadata": {},
   "outputs": [
    {
     "data": {
      "image/png": "[encoded data removed]",
      "text/plain": [
       "<Figure size 432x288 with 1 Axes>"
      ]
     },
     "metadata": {
      "needs_background": "light"
     },
     "output_type": "display_data"
    }
   ],
   "source": [
    "plot_target(\"Iris-setosa\")\n",
    "plot_decision_boundary(iris_petal.drop([\"Species\"], axis=1), target, model2)"
   ]
  },
  {
   "cell_type": "markdown",
   "metadata": {},
   "source": [
    "Vogliamo infine individuare un iperpiano che separi le osservazioni di _iris versicolor_ dalle altre"
   ]
  },
  {
   "cell_type": "code",
   "execution_count": 39,
   "metadata": {},
   "outputs": [
    {
     "data": {
      "text/plain": [
       "0    100\n",
       "3     50\n",
       "Name: Species, dtype: int64"
      ]
     },
     "execution_count": 39,
     "metadata": {},
     "output_type": "execute_result"
    }
   ],
   "source": [
    "target = iris_petal[\"Species\"].copy()\n",
    "target[iris[\"Species\"] != \"Iris-versicolor\"] = 0\n",
    "target.value_counts()"
   ]
  },
  {
   "cell_type": "markdown",
   "metadata": {},
   "source": [
    "In questo caso le osservazioni di interesse _non_ sono linearmente separabili dal resto del mondo, ne tantomento possiamo impiegare una retta come decision boundary in modo efficace. E' dunque inevitabile introdurre delle feature polinomiali, in questo caso è sufficiente fermarsi al secondo grado. Ciò che si sta facendo con questa operazione è mappare i nostri dati in uno spazio a più dimensioni, in cui questi siano separabili in modo efficace con un iperpiano (e dunque con una funzione lineare). Visualizzando tale iperpiano in due dimensioni questo risulterà chiaramente in una funzione non lineare"
   ]
  },
  {
   "cell_type": "code",
   "execution_count": 40,
   "metadata": {},
   "outputs": [
    {
     "data": {
      "image/png": "[encoded data removed]",
      "text/plain": [
       "<Figure size 432x288 with 1 Axes>"
      ]
     },
     "metadata": {
      "needs_background": "light"
     },
     "output_type": "display_data"
    }
   ],
   "source": [
    "plot_target(\"Iris-versicolor\")"
   ]
  },
  {
   "cell_type": "markdown",
   "metadata": {},
   "source": [
    "Dividiamo i dati in training set e validation set ancora una volta"
   ]
  },
  {
   "cell_type": "code",
   "execution_count": 41,
   "metadata": {},
   "outputs": [],
   "source": [
    "X_train, X_val, y_train, y_val = train_test_split(\n",
    "    iris_petal.drop([\"Species\"], axis=1),\n",
    "    target,            \n",
    "    test_size=1/3, random_state=42\n",
    ")"
   ]
  },
  {
   "cell_type": "markdown",
   "metadata": {},
   "source": [
    "Facciamo uso del filtro `PolynomialFeatures` che ci permette di ricavare feature polinomiali dai nostri dati, lo inseriamo all'interno di una `Pipeline` e alleniamo il nostro modello"
   ]
  },
  {
   "cell_type": "code",
   "execution_count": 42,
   "metadata": {},
   "outputs": [
    {
     "data": {
      "text/plain": [
       "0.98"
      ]
     },
     "execution_count": 42,
     "metadata": {},
     "output_type": "execute_result"
    }
   ],
   "source": [
    "from sklearn.pipeline import Pipeline\n",
    "from sklearn.preprocessing import PolynomialFeatures\n",
    "\n",
    "model3 = Pipeline([\n",
    "    (\"poly\", PolynomialFeatures(degree=2, include_bias=False)),\n",
    "    (\"perc\", Perceptron(max_iter=100000))\n",
    "])\n",
    "model3.fit(X_train, y_train)\n",
    "model3.score(X_val, y_val)"
   ]
  },
  {
   "cell_type": "markdown",
   "metadata": {},
   "source": [
    "Visualizziamo il decision boundary trovato, come anticipato in due dimensioni questo risulterà in una funzione non lineare"
   ]
  },
  {
   "cell_type": "code",
   "execution_count": 43,
   "metadata": {
    "scrolled": true
   },
   "outputs": [
    {
     "data": {
      "image/png": "[encoded data removed]",
      "text/plain": [
       "<Figure size 432x288 with 1 Axes>"
      ]
     },
     "metadata": {
      "needs_background": "light"
     },
     "output_type": "display_data"
    }
   ],
   "source": [
    "plot_target(\"Iris-versicolor\")\n",
    "plot_decision_boundary(iris_petal.drop([\"Species\"], axis=1), target, model3)"
   ]
  },
  {
   "cell_type": "markdown",
   "metadata": {},
   "source": [
    "Abbiamo trovato tre iperpiani: ciascuno separa una classe (una specie) dal resto del mondo, visualizziamo congiuntamente i tre decision boundary"
   ]
  },
  {
   "cell_type": "code",
   "execution_count": 44,
   "metadata": {},
   "outputs": [
    {
     "data": {
      "image/png": "[encoded data removed]",
      "text/plain": [
       "<Figure size 432x288 with 1 Axes>"
      ]
     },
     "metadata": {
      "needs_background": "light"
     },
     "output_type": "display_data"
    }
   ],
   "source": [
    "plot_features(iris[\"PetalLengthCm\"], iris[\"PetalWidthCm\"])\n",
    "plot_decision_boundary(iris_petal.drop([\"Species\"], axis=1), target, model1, c=\"r\")\n",
    "plot_decision_boundary(iris_petal.drop([\"Species\"], axis=1), target, model2, c=\"b\")\n",
    "plot_decision_boundary(iris_petal.drop([\"Species\"], axis=1), target, model3, c=\"g\")"
   ]
  },
  {
   "cell_type": "markdown",
   "metadata": {},
   "source": [
    "Possiamo usarli in modo congiunto per classificare un'osservazione in una delle tre specie, la regola di fusione è la seguente:\n",
    "ad ogni istanza $x$ si assegna la classe $y$ corrispondente al piano $j$ che massimizza\n",
    "$$ y = \\underset{j = 1,...,C}{\\operatorname{argmax}}{b_j + x^T w_j} $$\n",
    "\n",
    "Definiamo una funzione che faccia questa operazione, si noti che non usiamo la funzione `predict(x)` dei modelli, in quanto restituirebbe un valore binario, usiamo invece la funzione `decision_function(x)` che restituisce una stima della confidenza con la quale il modello in questione classifica l'osservazione in esame. La classe finale sarà quella relativa al modello con confidenza maggiore"
   ]
  },
  {
   "cell_type": "code",
   "execution_count": 45,
   "metadata": {},
   "outputs": [],
   "source": [
    "def ovr_predict(x):\n",
    "    confidence1 = model1.decision_function(x)\n",
    "    confidence2 = model2.decision_function(x)\n",
    "    confidence3 = model3.decision_function(x)\n",
    "    max_confidence = confidence1\n",
    "    c = 1\n",
    "    if confidence2 > max_confidence:\n",
    "        max_confidence = confidence2\n",
    "        c = 2\n",
    "    if confidence3 > max_confidence:\n",
    "        max_confidence = confidence3\n",
    "        c = 3\n",
    "    return c\n",
    "\n",
    "def ovr_predict_aggregate(X):\n",
    "    y = []\n",
    "    for i in range(0, len(X)):\n",
    "        if isinstance(X, pd.DataFrame):\n",
    "            y.append(ovr_predict(X.iloc[[i], :]))\n",
    "        else:\n",
    "            y.append(ovr_predict(X[[i], :]))\n",
    "    return np.array(y)"
   ]
  },
  {
   "cell_type": "markdown",
   "metadata": {},
   "source": [
    "Costruiamo ancora una volta training set e validation set, questa volta usando la colonna `Species` di `iris_petal` (e non `target`) come colonna y. Questo vuol dire che le osservazioni saranno divise nelle tre classi"
   ]
  },
  {
   "cell_type": "code",
   "execution_count": 46,
   "metadata": {},
   "outputs": [],
   "source": [
    "X_train, X_val, y_train, y_val = train_test_split(\n",
    "    iris_petal.drop([\"Species\"], axis=1),\n",
    "    iris_petal[\"Species\"],            \n",
    "    test_size=1/3, random_state=42\n",
    ")"
   ]
  },
  {
   "cell_type": "markdown",
   "metadata": {},
   "source": [
    "Misuriamo l'accuratezza del modello ottenuto: è del 98%"
   ]
  },
  {
   "cell_type": "code",
   "execution_count": 47,
   "metadata": {},
   "outputs": [
    {
     "data": {
      "text/plain": [
       "0.98"
      ]
     },
     "execution_count": 47,
     "metadata": {},
     "output_type": "execute_result"
    }
   ],
   "source": [
    "hits = y_val == ovr_predict_aggregate(X_val)\n",
    "hits.mean()"
   ]
  },
  {
   "cell_type": "markdown",
   "metadata": {},
   "source": [
    "Essendo che nei modelli di classificazione l'accuratezza non è l'unica metrica da prendere in considerazione, costruiamo la **matrice di confusione** per il nostro modello. Si ricorda che la matrice di confusione è una matrice in cui la cella in posizione (i,j) indica quanti esempi della classe i-esima sono stati etichettati dal classificatore come di classe j-esima"
   ]
  },
  {
   "cell_type": "code",
   "execution_count": 48,
   "metadata": {},
   "outputs": [
    {
     "data": {
      "text/html": [
       "<div>\n",
       "<style scoped>\n",
       "    .dataframe tbody tr th:only-of-type {\n",
       "        vertical-align: middle;\n",
       "    }\n",
       "\n",
       "    .dataframe tbody tr th {\n",
       "        vertical-align: top;\n",
       "    }\n",
       "\n",
       "    .dataframe thead th {\n",
       "        text-align: right;\n",
       "    }\n",
       "</style>\n",
       "<table border=\"1\" class=\"dataframe\">\n",
       "  <thead>\n",
       "    <tr style=\"text-align: right;\">\n",
       "      <th></th>\n",
       "      <th>Iris-virginica</th>\n",
       "      <th>Iris-setosa</th>\n",
       "      <th>Iris-versicolor</th>\n",
       "    </tr>\n",
       "  </thead>\n",
       "  <tbody>\n",
       "    <tr>\n",
       "      <th>Iris-virginica</th>\n",
       "      <td>15</td>\n",
       "      <td>0</td>\n",
       "      <td>1</td>\n",
       "    </tr>\n",
       "    <tr>\n",
       "      <th>Iris-setosa</th>\n",
       "      <td>0</td>\n",
       "      <td>19</td>\n",
       "      <td>0</td>\n",
       "    </tr>\n",
       "    <tr>\n",
       "      <th>Iris-versicolor</th>\n",
       "      <td>0</td>\n",
       "      <td>0</td>\n",
       "      <td>15</td>\n",
       "    </tr>\n",
       "  </tbody>\n",
       "</table>\n",
       "</div>"
      ],
      "text/plain": [
       "                 Iris-virginica  Iris-setosa  Iris-versicolor\n",
       "Iris-virginica               15            0                1\n",
       "Iris-setosa                   0           19                0\n",
       "Iris-versicolor               0            0               15"
      ]
     },
     "execution_count": 48,
     "metadata": {},
     "output_type": "execute_result"
    }
   ],
   "source": [
    "from sklearn.metrics import confusion_matrix\n",
    "y_val_pred = ovr_predict_aggregate(X_val)\n",
    "cm = confusion_matrix(y_val, y_val_pred)\n",
    "classes = [\"Iris-virginica\", \"Iris-setosa\", \"Iris-versicolor\"]\n",
    "pd.DataFrame(cm, index=classes, columns=classes)"
   ]
  },
  {
   "cell_type": "markdown",
   "metadata": {},
   "source": [
    "Osserviamo che è presente un unico errore di classificazione, misuriamo ora precision e recall per ciascuna delle tre classi. Si ricorda che la **precision** relativa a una classe inidica la percentuale di esempi classificati come appartanenti a quella classe che sono realmente tali, la **recall** relativa a una classe indica la percentuale di osservazioni della classe in esame che sono stati classificati come tali"
   ]
  },
  {
   "cell_type": "code",
   "execution_count": 49,
   "metadata": {},
   "outputs": [
    {
     "data": {
      "text/plain": [
       "array([1.    , 1.    , 0.9375])"
      ]
     },
     "execution_count": 49,
     "metadata": {},
     "output_type": "execute_result"
    }
   ],
   "source": [
    "from sklearn.metrics import precision_score, recall_score, f1_score\n",
    "\n",
    "precision_score(y_val, y_val_pred, average=None)"
   ]
  },
  {
   "cell_type": "code",
   "execution_count": 50,
   "metadata": {},
   "outputs": [
    {
     "data": {
      "text/plain": [
       "array([0.9375, 1.    , 1.    ])"
      ]
     },
     "execution_count": 50,
     "metadata": {},
     "output_type": "execute_result"
    }
   ],
   "source": [
    "recall_score(y_val, y_val_pred, average=None)"
   ]
  },
  {
   "cell_type": "markdown",
   "metadata": {},
   "source": [
    "Come prevedibile già dalla matrice di confusione, i risultati sono piuttosto soddisfacenti. Misuriamo anche la **f1 score** per ciascuna classe, questa corrisponde a una media armonica di precision e recall"
   ]
  },
  {
   "cell_type": "code",
   "execution_count": 51,
   "metadata": {},
   "outputs": [
    {
     "data": {
      "text/plain": [
       "array([0.96774194, 1.        , 0.96774194])"
      ]
     },
     "execution_count": 51,
     "metadata": {},
     "output_type": "execute_result"
    }
   ],
   "source": [
    "f1_score(y_val, y_val_pred, average=None)"
   ]
  },
  {
   "cell_type": "markdown",
   "metadata": {},
   "source": [
    "Effettuiamo infine una **media delle diverse f1 score** per avere un unico valore che rispecchi l'efficacia del modello"
   ]
  },
  {
   "cell_type": "code",
   "execution_count": 52,
   "metadata": {},
   "outputs": [
    {
     "data": {
      "text/plain": [
       "0.978494623655914"
      ]
     },
     "execution_count": 52,
     "metadata": {},
     "output_type": "execute_result"
    }
   ],
   "source": [
    "f1_score(y_val, y_val_pred, average=\"macro\")"
   ]
  },
  {
   "cell_type": "markdown",
   "metadata": {},
   "source": [
    "Il risultato ottenuto è piuttosto soddisfacente"
   ]
  },
  {
   "cell_type": "markdown",
   "metadata": {},
   "source": [
    "L'ultima cosa che vogliamo fare è mostrare i _decision boundaries_ \"finali\" ottenuti dalla fusione dei tre iperpiani, definiamo una funzione che ci permetta di farlo"
   ]
  },
  {
   "cell_type": "code",
   "execution_count": 53,
   "metadata": {},
   "outputs": [],
   "source": [
    "def plot_decision_boundaries(model):\n",
    "    \n",
    "    X = iris_petal.drop([\"Species\"], axis=1)\n",
    "    y = iris[\"Species\"].map(species_codes)\n",
    "\n",
    "    def make_meshgrid(x, y, h=.02):\n",
    "        x_min, x_max = x.min() - 1, x.max() + 1\n",
    "        y_min, y_max = y.min() - 1, y.max() + 1\n",
    "        xx, yy = np.meshgrid(np.arange(x_min, x_max, h), np.arange(y_min, y_max, h))\n",
    "        return xx, yy\n",
    "\n",
    "    def plot_contours(xx, yy, **params):\n",
    "        Z = model(np.c_[xx.ravel(), yy.ravel()])\n",
    "        Z = Z.reshape(xx.shape)\n",
    "        out = plt.contourf(xx, yy, Z, **params)\n",
    "        return out\n",
    "\n",
    "    X0, X1 = X.iloc[:, 0], X.iloc[:, 1]\n",
    "    xx, yy = make_meshgrid(X0, X1)\n",
    "    plt.scatter(X0, X1, c=y, cmap=plt.cm.coolwarm, edgecolors='k')\n",
    "    xlim, ylim = plt.xlim(), plt.ylim()\n",
    "    plt.xlim(xlim); plt.ylim(ylim)\n",
    "    \n",
    "    plot_contours(xx, yy, alpha=0.4, cmap=plt.cm.coolwarm)\n",
    "    plt.ylabel('PetalWidthCm')\n",
    "    plt.xlabel('PetalLengthCm')\n",
    "    #plt.show()"
   ]
  },
  {
   "cell_type": "markdown",
   "metadata": {},
   "source": [
    "Osserviamo che, per quanto le nostre misure siano soddisfacenti, il modello finale ottenuto risulta piuttosto aderente ai dati. In particolare l'iperpiano usato per classificare le osservazioni di _iris versicolor_ (in figura la regione rossa) potrebbe non essere così efficace su dati futuri, soprattutto se questi risultassero più _sparsi_ di quelli attuali"
   ]
  },
  {
   "cell_type": "code",
   "execution_count": 54,
   "metadata": {},
   "outputs": [
    {
     "data": {
      "image/png": "[encoded data removed]",
      "text/plain": [
       "<Figure size 432x288 with 1 Axes>"
      ]
     },
     "metadata": {
      "needs_background": "light"
     },
     "output_type": "display_data"
    }
   ],
   "source": [
    "plot_decision_boundaries(ovr_predict_aggregate) # this may take a while"
   ]
  },
  {
   "cell_type": "markdown",
   "metadata": {},
   "source": [
    "## Modelli più complessi\n",
    "\n",
    "I modelli allenati fino a questo momento usano solo una parte delle feature a nostra disposizione, inoltre non fanno uso di **standardizzazione** dei dati, **regolarizzazione** dei parametri degli iperpiani (in effetti è stato appena osservato che uno dei tre iperpiani trovati risulta troppo aderente ai dati, cioè è andato in overfitting), e le misure di cui sopra sono state calcolate dividendo i dati con il metodo hold-out, cioè partizionandoli una sola volta. Ciò che si vuole fare ora è allenare modelli più complessi che facciano uso di tutte le feature a nostra disposizione e delle tecniche citate sopra, le metriche di valutazione di questi modelli saranno calcolate con la k-fold cross validation, in modo da ottenere stime più robuste.\n",
    "\n",
    "Si sappia che la classificazione multiclasse è supportata dai modelli di scikit learn, dunque quanto è stato fatto \"a mano\" fino a questo momento può essere effettuato in modo automatico"
   ]
  },
  {
   "cell_type": "markdown",
   "metadata": {},
   "source": [
    "Dividiamo i dati in training e validation set, usando questa volta il DataFrame originale `iris`"
   ]
  },
  {
   "cell_type": "code",
   "execution_count": 55,
   "metadata": {},
   "outputs": [],
   "source": [
    "X_train, X_val, y_train, y_val = train_test_split(\n",
    "    iris.drop([\"Species\"], axis=1),\n",
    "    iris[\"Species\"].map(species_codes),            \n",
    "    test_size=1/3, random_state=42\n",
    ")"
   ]
  },
  {
   "cell_type": "markdown",
   "metadata": {},
   "source": [
    "Scegliamo come primo algoritmo il `Perceptron`, usato anche in precedenza, introducendo però feature polinomiali, standardizzazione dei dati e regolarizzazione dei parametri. Utilizziamo la grid search per testare diverse combinazioni di iperparametri e trovare quella che fornisce risultati migliori, in particolare testiamo:\n",
    "- feature polinomiali fino al grado 4\n",
    "- standardizzazione dei dati presente e assente\n",
    "- nessuna regolarizzazione, regolarizzazione con norma 1, con norma 2 e con entrambe (elastic net)\n",
    "- intensità della regolarizzazione (parametro alpha) da  $1 x 10^{-6}$  a $1 x 10^3$"
   ]
  },
  {
   "cell_type": "code",
   "execution_count": 56,
   "metadata": {},
   "outputs": [],
   "source": [
    "from sklearn.preprocessing import PolynomialFeatures\n",
    "from sklearn.preprocessing import StandardScaler\n",
    "\n",
    "model = Pipeline([\n",
    "    (\"poly\", PolynomialFeatures(include_bias=False)),\n",
    "    (\"scaler\", StandardScaler()),\n",
    "    (\"perc\",  Perceptron())\n",
    "])\n",
    "\n",
    "grid = {\n",
    "    \"poly__degree\": [2,3,4],\n",
    "    \"scaler\": [None, StandardScaler()],\n",
    "    \"perc__penalty\": [None, \"l1\", \"l2\", \"elasticnet\"],\n",
    "    \"perc__alpha\": np.logspace(-6, 3, 10) \n",
    "}"
   ]
  },
  {
   "cell_type": "markdown",
   "metadata": {},
   "source": [
    "Di default i modelli vengono confrontati in base all'accuratezza, vogliamo invece che venga usata come metrica la **f1 measure**, tuttavia questa di default non è multiclasse. Dunque è necessario creare uno `scorer` personalizzato basato su una media delle f1 measure delle diverse classi"
   ]
  },
  {
   "cell_type": "code",
   "execution_count": 57,
   "metadata": {},
   "outputs": [],
   "source": [
    "from sklearn.metrics import make_scorer\n",
    "f1_multiclass = make_scorer(f1_score, greater_is_better=True, average=\"macro\")"
   ]
  },
  {
   "cell_type": "markdown",
   "metadata": {},
   "source": [
    "Lanciamo la grid search sui dati del training set, questi saranno soggetti a k-fold cross validation per trovare gli iperparametri migliori. Ottenuto il modello migliore potremo testarlo sui dati del validation set, che questo non ha mai \"visto\""
   ]
  },
  {
   "cell_type": "code",
   "execution_count": 58,
   "metadata": {},
   "outputs": [
    {
     "data": {
      "text/html": [
       "<div>\n",
       "<style scoped>\n",
       "    .dataframe tbody tr th:only-of-type {\n",
       "        vertical-align: middle;\n",
       "    }\n",
       "\n",
       "    .dataframe tbody tr th {\n",
       "        vertical-align: top;\n",
       "    }\n",
       "\n",
       "    .dataframe thead th {\n",
       "        text-align: right;\n",
       "    }\n",
       "</style>\n",
       "<table border=\"1\" class=\"dataframe\">\n",
       "  <thead>\n",
       "    <tr style=\"text-align: right;\">\n",
       "      <th></th>\n",
       "      <th>mean_fit_time</th>\n",
       "      <th>std_fit_time</th>\n",
       "      <th>mean_score_time</th>\n",
       "      <th>std_score_time</th>\n",
       "      <th>param_perc__alpha</th>\n",
       "      <th>param_perc__penalty</th>\n",
       "      <th>param_poly__degree</th>\n",
       "      <th>param_scaler</th>\n",
       "      <th>params</th>\n",
       "      <th>split0_test_score</th>\n",
       "      <th>split1_test_score</th>\n",
       "      <th>split2_test_score</th>\n",
       "      <th>mean_test_score</th>\n",
       "      <th>std_test_score</th>\n",
       "      <th>rank_test_score</th>\n",
       "      <th>split0_train_score</th>\n",
       "      <th>split1_train_score</th>\n",
       "      <th>split2_train_score</th>\n",
       "      <th>mean_train_score</th>\n",
       "      <th>std_train_score</th>\n",
       "    </tr>\n",
       "  </thead>\n",
       "  <tbody>\n",
       "    <tr>\n",
       "      <th>59</th>\n",
       "      <td>0.003405</td>\n",
       "      <td>0.000232</td>\n",
       "      <td>0.001447</td>\n",
       "      <td>0.000038</td>\n",
       "      <td>0.0001</td>\n",
       "      <td>l1</td>\n",
       "      <td>4</td>\n",
       "      <td>StandardScaler(copy=True, with_mean=True, with...</td>\n",
       "      <td>{'perc__alpha': 0.0001, 'perc__penalty': 'l1',...</td>\n",
       "      <td>0.972174</td>\n",
       "      <td>0.941919</td>\n",
       "      <td>1.000000</td>\n",
       "      <td>0.971094</td>\n",
       "      <td>0.023424</td>\n",
       "      <td>1</td>\n",
       "      <td>0.939873</td>\n",
       "      <td>1.0</td>\n",
       "      <td>0.943030</td>\n",
       "      <td>0.960968</td>\n",
       "      <td>0.027630</td>\n",
       "    </tr>\n",
       "    <tr>\n",
       "      <th>173</th>\n",
       "      <td>0.003161</td>\n",
       "      <td>0.000083</td>\n",
       "      <td>0.001529</td>\n",
       "      <td>0.000089</td>\n",
       "      <td>10</td>\n",
       "      <td>None</td>\n",
       "      <td>4</td>\n",
       "      <td>StandardScaler(copy=True, with_mean=True, with...</td>\n",
       "      <td>{'perc__alpha': 10.0, 'perc__penalty': None, '...</td>\n",
       "      <td>0.972174</td>\n",
       "      <td>0.941919</td>\n",
       "      <td>0.969634</td>\n",
       "      <td>0.961377</td>\n",
       "      <td>0.013695</td>\n",
       "      <td>2</td>\n",
       "      <td>0.955468</td>\n",
       "      <td>1.0</td>\n",
       "      <td>0.928949</td>\n",
       "      <td>0.961472</td>\n",
       "      <td>0.029315</td>\n",
       "    </tr>\n",
       "    <tr>\n",
       "      <th>197</th>\n",
       "      <td>0.003286</td>\n",
       "      <td>0.000236</td>\n",
       "      <td>0.001525</td>\n",
       "      <td>0.000034</td>\n",
       "      <td>100</td>\n",
       "      <td>None</td>\n",
       "      <td>4</td>\n",
       "      <td>StandardScaler(copy=True, with_mean=True, with...</td>\n",
       "      <td>{'perc__alpha': 100.0, 'perc__penalty': None, ...</td>\n",
       "      <td>0.972174</td>\n",
       "      <td>0.941919</td>\n",
       "      <td>0.969634</td>\n",
       "      <td>0.961377</td>\n",
       "      <td>0.013695</td>\n",
       "      <td>2</td>\n",
       "      <td>0.955468</td>\n",
       "      <td>1.0</td>\n",
       "      <td>0.928949</td>\n",
       "      <td>0.961472</td>\n",
       "      <td>0.029315</td>\n",
       "    </tr>\n",
       "  </tbody>\n",
       "</table>\n",
       "</div>"
      ],
      "text/plain": [
       "     mean_fit_time  std_fit_time  mean_score_time  std_score_time  \\\n",
       "59        0.003405      0.000232         0.001447        0.000038   \n",
       "173       0.003161      0.000083         0.001529        0.000089   \n",
       "197       0.003286      0.000236         0.001525        0.000034   \n",
       "\n",
       "    param_perc__alpha param_perc__penalty param_poly__degree  \\\n",
       "59             0.0001                  l1                  4   \n",
       "173                10                None                  4   \n",
       "197               100                None                  4   \n",
       "\n",
       "                                          param_scaler  \\\n",
       "59   StandardScaler(copy=True, with_mean=True, with...   \n",
       "173  StandardScaler(copy=True, with_mean=True, with...   \n",
       "197  StandardScaler(copy=True, with_mean=True, with...   \n",
       "\n",
       "                                                params  split0_test_score  \\\n",
       "59   {'perc__alpha': 0.0001, 'perc__penalty': 'l1',...           0.972174   \n",
       "173  {'perc__alpha': 10.0, 'perc__penalty': None, '...           0.972174   \n",
       "197  {'perc__alpha': 100.0, 'perc__penalty': None, ...           0.972174   \n",
       "\n",
       "     split1_test_score  split2_test_score  mean_test_score  std_test_score  \\\n",
       "59            0.941919           1.000000         0.971094        0.023424   \n",
       "173           0.941919           0.969634         0.961377        0.013695   \n",
       "197           0.941919           0.969634         0.961377        0.013695   \n",
       "\n",
       "     rank_test_score  split0_train_score  split1_train_score  \\\n",
       "59                 1            0.939873                 1.0   \n",
       "173                2            0.955468                 1.0   \n",
       "197                2            0.955468                 1.0   \n",
       "\n",
       "     split2_train_score  mean_train_score  std_train_score  \n",
       "59             0.943030          0.960968         0.027630  \n",
       "173            0.928949          0.961472         0.029315  \n",
       "197            0.928949          0.961472         0.029315  "
      ]
     },
     "execution_count": 58,
     "metadata": {},
     "output_type": "execute_result"
    }
   ],
   "source": [
    "from sklearn.model_selection import GridSearchCV\n",
    "\n",
    "gs = GridSearchCV(model, grid, scoring=f1_multiclass, n_jobs=2)\n",
    "gs.fit(X_train, y_train)\n",
    "pd.DataFrame(gs.cv_results_).sort_values(\"rank_test_score\").head(3)"
   ]
  },
  {
   "cell_type": "markdown",
   "metadata": {},
   "source": [
    "Il modello migliore si ottiene con feature polinomiali di quarto grado, standardizzazione dei dati, regolarizzazione con norma 1 e intensità della regolarizzazione piuttosto bassa, pari a `0.0001`. Il modello così ottenuto ha una f1 score media di 0.97 sulle porzioni di training set usate per il test\n",
    "\n",
    "Lo salviamo in una variabile"
   ]
  },
  {
   "cell_type": "code",
   "execution_count": 59,
   "metadata": {},
   "outputs": [],
   "source": [
    "perc_model = gs.best_estimator_"
   ]
  },
  {
   "cell_type": "markdown",
   "metadata": {},
   "source": [
    "Vogliamo ora testare la **regressione logistica**, come prima con l'introduzione di feature polinomiali, la standardizzazione dei dati e la regolarizzazione dei parametri. In particolare testiamo:\n",
    "- feature polinomiali fino al grado 4\n",
    "- standardizzazione dei dati presente e assente\n",
    "- regolarizzazione con norma 1 e con norma 2\n",
    "- intensità della regolarizzazione (parametro C) da  $1 x 10^{-6}$  a $1 x 10^3$"
   ]
  },
  {
   "cell_type": "code",
   "execution_count": 60,
   "metadata": {
    "scrolled": false
   },
   "outputs": [
    {
     "data": {
      "text/html": [
       "<div>\n",
       "<style scoped>\n",
       "    .dataframe tbody tr th:only-of-type {\n",
       "        vertical-align: middle;\n",
       "    }\n",
       "\n",
       "    .dataframe tbody tr th {\n",
       "        vertical-align: top;\n",
       "    }\n",
       "\n",
       "    .dataframe thead th {\n",
       "        text-align: right;\n",
       "    }\n",
       "</style>\n",
       "<table border=\"1\" class=\"dataframe\">\n",
       "  <thead>\n",
       "    <tr style=\"text-align: right;\">\n",
       "      <th></th>\n",
       "      <th>mean_fit_time</th>\n",
       "      <th>std_fit_time</th>\n",
       "      <th>mean_score_time</th>\n",
       "      <th>std_score_time</th>\n",
       "      <th>param_lr__C</th>\n",
       "      <th>param_lr__penalty</th>\n",
       "      <th>param_poly__degree</th>\n",
       "      <th>param_scaler</th>\n",
       "      <th>params</th>\n",
       "      <th>split0_test_score</th>\n",
       "      <th>split1_test_score</th>\n",
       "      <th>split2_test_score</th>\n",
       "      <th>mean_test_score</th>\n",
       "      <th>std_test_score</th>\n",
       "      <th>rank_test_score</th>\n",
       "      <th>split0_train_score</th>\n",
       "      <th>split1_train_score</th>\n",
       "      <th>split2_train_score</th>\n",
       "      <th>mean_train_score</th>\n",
       "      <th>std_train_score</th>\n",
       "    </tr>\n",
       "  </thead>\n",
       "  <tbody>\n",
       "    <tr>\n",
       "      <th>66</th>\n",
       "      <td>0.002210</td>\n",
       "      <td>0.000310</td>\n",
       "      <td>0.001112</td>\n",
       "      <td>0.000309</td>\n",
       "      <td>0.1</td>\n",
       "      <td>l2</td>\n",
       "      <td>2</td>\n",
       "      <td>None</td>\n",
       "      <td>{'lr__C': 0.1, 'lr__penalty': 'l2', 'poly__deg...</td>\n",
       "      <td>1.0</td>\n",
       "      <td>0.941919</td>\n",
       "      <td>0.969634</td>\n",
       "      <td>0.971116</td>\n",
       "      <td>0.023959</td>\n",
       "      <td>1</td>\n",
       "      <td>0.970356</td>\n",
       "      <td>0.9855</td>\n",
       "      <td>0.971618</td>\n",
       "      <td>0.975825</td>\n",
       "      <td>0.006861</td>\n",
       "    </tr>\n",
       "    <tr>\n",
       "      <th>72</th>\n",
       "      <td>0.018293</td>\n",
       "      <td>0.004914</td>\n",
       "      <td>0.001305</td>\n",
       "      <td>0.000245</td>\n",
       "      <td>1</td>\n",
       "      <td>l1</td>\n",
       "      <td>2</td>\n",
       "      <td>None</td>\n",
       "      <td>{'lr__C': 1.0, 'lr__penalty': 'l1', 'poly__deg...</td>\n",
       "      <td>1.0</td>\n",
       "      <td>0.941919</td>\n",
       "      <td>0.969634</td>\n",
       "      <td>0.971116</td>\n",
       "      <td>0.023959</td>\n",
       "      <td>1</td>\n",
       "      <td>0.985185</td>\n",
       "      <td>1.0000</td>\n",
       "      <td>0.985816</td>\n",
       "      <td>0.990334</td>\n",
       "      <td>0.006840</td>\n",
       "    </tr>\n",
       "    <tr>\n",
       "      <th>83</th>\n",
       "      <td>0.003920</td>\n",
       "      <td>0.000639</td>\n",
       "      <td>0.001706</td>\n",
       "      <td>0.000412</td>\n",
       "      <td>1</td>\n",
       "      <td>l2</td>\n",
       "      <td>4</td>\n",
       "      <td>StandardScaler(copy=True, with_mean=True, with...</td>\n",
       "      <td>{'lr__C': 1.0, 'lr__penalty': 'l2', 'poly__deg...</td>\n",
       "      <td>1.0</td>\n",
       "      <td>0.912381</td>\n",
       "      <td>1.000000</td>\n",
       "      <td>0.971086</td>\n",
       "      <td>0.041200</td>\n",
       "      <td>3</td>\n",
       "      <td>0.985185</td>\n",
       "      <td>1.0000</td>\n",
       "      <td>0.985816</td>\n",
       "      <td>0.990334</td>\n",
       "      <td>0.006840</td>\n",
       "    </tr>\n",
       "  </tbody>\n",
       "</table>\n",
       "</div>"
      ],
      "text/plain": [
       "    mean_fit_time  std_fit_time  mean_score_time  std_score_time param_lr__C  \\\n",
       "66       0.002210      0.000310         0.001112        0.000309         0.1   \n",
       "72       0.018293      0.004914         0.001305        0.000245           1   \n",
       "83       0.003920      0.000639         0.001706        0.000412           1   \n",
       "\n",
       "   param_lr__penalty param_poly__degree  \\\n",
       "66                l2                  2   \n",
       "72                l1                  2   \n",
       "83                l2                  4   \n",
       "\n",
       "                                         param_scaler  \\\n",
       "66                                               None   \n",
       "72                                               None   \n",
       "83  StandardScaler(copy=True, with_mean=True, with...   \n",
       "\n",
       "                                               params  split0_test_score  \\\n",
       "66  {'lr__C': 0.1, 'lr__penalty': 'l2', 'poly__deg...                1.0   \n",
       "72  {'lr__C': 1.0, 'lr__penalty': 'l1', 'poly__deg...                1.0   \n",
       "83  {'lr__C': 1.0, 'lr__penalty': 'l2', 'poly__deg...                1.0   \n",
       "\n",
       "    split1_test_score  split2_test_score  mean_test_score  std_test_score  \\\n",
       "66           0.941919           0.969634         0.971116        0.023959   \n",
       "72           0.941919           0.969634         0.971116        0.023959   \n",
       "83           0.912381           1.000000         0.971086        0.041200   \n",
       "\n",
       "    rank_test_score  split0_train_score  split1_train_score  \\\n",
       "66                1            0.970356              0.9855   \n",
       "72                1            0.985185              1.0000   \n",
       "83                3            0.985185              1.0000   \n",
       "\n",
       "    split2_train_score  mean_train_score  std_train_score  \n",
       "66            0.971618          0.975825         0.006861  \n",
       "72            0.985816          0.990334         0.006840  \n",
       "83            0.985816          0.990334         0.006840  "
      ]
     },
     "execution_count": 60,
     "metadata": {},
     "output_type": "execute_result"
    }
   ],
   "source": [
    "from sklearn.linear_model import LogisticRegression\n",
    "\n",
    "model = Pipeline([\n",
    "    (\"poly\", PolynomialFeatures(include_bias=False)),\n",
    "    (\"scaler\", StandardScaler()),\n",
    "    (\"lr\",  LogisticRegression())\n",
    "])\n",
    "\n",
    "grid = {\n",
    "    \"poly__degree\": [2,3,4],\n",
    "    \"scaler\": [None, StandardScaler()],\n",
    "    \"lr__penalty\": [\"l1\", \"l2\"],\n",
    "    \"lr__C\": np.logspace(-6, 3, 10)\n",
    "}\n",
    "\n",
    "gs = GridSearchCV(model, grid, scoring=f1_multiclass, n_jobs=2)\n",
    "gs.fit(X_train, y_train)\n",
    "pd.DataFrame(gs.cv_results_).sort_values(\"rank_test_score\").head(3)"
   ]
  },
  {
   "cell_type": "markdown",
   "metadata": {},
   "source": [
    "Il modello migliore si ottiene con feature polinomiali di secondo grado, nessuna standardizzazione dei dati, regolarizzazione dei parametri con norma 2 e intensità di quest'ultima pari a `0.1`.  Il modello così ottenuto ha una f1 score media di 0.97 sulle porzioni di training set usate per il test\n",
    "\n",
    "Lo salviamo in una variabile"
   ]
  },
  {
   "cell_type": "code",
   "execution_count": 61,
   "metadata": {},
   "outputs": [],
   "source": [
    "lr_model = gs.best_estimator_"
   ]
  },
  {
   "cell_type": "markdown",
   "metadata": {},
   "source": [
    "Infine vogliamo provare a fare classificazione usando delle **support vectors machines**, che ci permettono di trovare gli iperpiani _ottimi_ per separare i dati. In particolare testiamo: \n",
    "- standardizzazione dei dati presente e assente\n",
    "- kernel lineare, polinomiale (di default di terzo grado) e gaussiano\n",
    "- parametro C, che regola il peso assegnato agli errori di classificazione, da  $1 x 10^{-6}$  a $1 x 10^3$"
   ]
  },
  {
   "cell_type": "code",
   "execution_count": 62,
   "metadata": {},
   "outputs": [
    {
     "data": {
      "text/html": [
       "<div>\n",
       "<style scoped>\n",
       "    .dataframe tbody tr th:only-of-type {\n",
       "        vertical-align: middle;\n",
       "    }\n",
       "\n",
       "    .dataframe tbody tr th {\n",
       "        vertical-align: top;\n",
       "    }\n",
       "\n",
       "    .dataframe thead th {\n",
       "        text-align: right;\n",
       "    }\n",
       "</style>\n",
       "<table border=\"1\" class=\"dataframe\">\n",
       "  <thead>\n",
       "    <tr style=\"text-align: right;\">\n",
       "      <th></th>\n",
       "      <th>mean_fit_time</th>\n",
       "      <th>std_fit_time</th>\n",
       "      <th>mean_score_time</th>\n",
       "      <th>std_score_time</th>\n",
       "      <th>param_scaler</th>\n",
       "      <th>param_svc__C</th>\n",
       "      <th>param_svc__kernel</th>\n",
       "      <th>params</th>\n",
       "      <th>split0_test_score</th>\n",
       "      <th>split1_test_score</th>\n",
       "      <th>split2_test_score</th>\n",
       "      <th>mean_test_score</th>\n",
       "      <th>std_test_score</th>\n",
       "      <th>rank_test_score</th>\n",
       "      <th>split0_train_score</th>\n",
       "      <th>split1_train_score</th>\n",
       "      <th>split2_train_score</th>\n",
       "      <th>mean_train_score</th>\n",
       "      <th>std_train_score</th>\n",
       "    </tr>\n",
       "  </thead>\n",
       "  <tbody>\n",
       "    <tr>\n",
       "      <th>24</th>\n",
       "      <td>0.001717</td>\n",
       "      <td>0.000246</td>\n",
       "      <td>0.001029</td>\n",
       "      <td>0.000232</td>\n",
       "      <td>None</td>\n",
       "      <td>100</td>\n",
       "      <td>linear</td>\n",
       "      <td>{'scaler': None, 'svc__C': 100.0, 'svc__kernel...</td>\n",
       "      <td>1.0</td>\n",
       "      <td>0.882051</td>\n",
       "      <td>1.0</td>\n",
       "      <td>0.961077</td>\n",
       "      <td>0.055461</td>\n",
       "      <td>1</td>\n",
       "      <td>0.985185</td>\n",
       "      <td>1.0</td>\n",
       "      <td>0.985816</td>\n",
       "      <td>0.990334</td>\n",
       "      <td>0.006840</td>\n",
       "    </tr>\n",
       "    <tr>\n",
       "      <th>54</th>\n",
       "      <td>0.001848</td>\n",
       "      <td>0.000042</td>\n",
       "      <td>0.000838</td>\n",
       "      <td>0.000007</td>\n",
       "      <td>StandardScaler(copy=True, with_mean=True, with...</td>\n",
       "      <td>100</td>\n",
       "      <td>linear</td>\n",
       "      <td>{'scaler': StandardScaler(copy=True, with_mean...</td>\n",
       "      <td>1.0</td>\n",
       "      <td>0.882051</td>\n",
       "      <td>1.0</td>\n",
       "      <td>0.961077</td>\n",
       "      <td>0.055461</td>\n",
       "      <td>1</td>\n",
       "      <td>0.985185</td>\n",
       "      <td>1.0</td>\n",
       "      <td>0.985816</td>\n",
       "      <td>0.990334</td>\n",
       "      <td>0.006840</td>\n",
       "    </tr>\n",
       "    <tr>\n",
       "      <th>48</th>\n",
       "      <td>0.001858</td>\n",
       "      <td>0.000074</td>\n",
       "      <td>0.000844</td>\n",
       "      <td>0.000037</td>\n",
       "      <td>StandardScaler(copy=True, with_mean=True, with...</td>\n",
       "      <td>1</td>\n",
       "      <td>linear</td>\n",
       "      <td>{'scaler': StandardScaler(copy=True, with_mean...</td>\n",
       "      <td>1.0</td>\n",
       "      <td>0.882051</td>\n",
       "      <td>1.0</td>\n",
       "      <td>0.961077</td>\n",
       "      <td>0.055461</td>\n",
       "      <td>1</td>\n",
       "      <td>0.970356</td>\n",
       "      <td>1.0</td>\n",
       "      <td>0.957370</td>\n",
       "      <td>0.975908</td>\n",
       "      <td>0.017841</td>\n",
       "    </tr>\n",
       "  </tbody>\n",
       "</table>\n",
       "</div>"
      ],
      "text/plain": [
       "    mean_fit_time  std_fit_time  mean_score_time  std_score_time  \\\n",
       "24       0.001717      0.000246         0.001029        0.000232   \n",
       "54       0.001848      0.000042         0.000838        0.000007   \n",
       "48       0.001858      0.000074         0.000844        0.000037   \n",
       "\n",
       "                                         param_scaler param_svc__C  \\\n",
       "24                                               None          100   \n",
       "54  StandardScaler(copy=True, with_mean=True, with...          100   \n",
       "48  StandardScaler(copy=True, with_mean=True, with...            1   \n",
       "\n",
       "   param_svc__kernel                                             params  \\\n",
       "24            linear  {'scaler': None, 'svc__C': 100.0, 'svc__kernel...   \n",
       "54            linear  {'scaler': StandardScaler(copy=True, with_mean...   \n",
       "48            linear  {'scaler': StandardScaler(copy=True, with_mean...   \n",
       "\n",
       "    split0_test_score  split1_test_score  split2_test_score  mean_test_score  \\\n",
       "24                1.0           0.882051                1.0         0.961077   \n",
       "54                1.0           0.882051                1.0         0.961077   \n",
       "48                1.0           0.882051                1.0         0.961077   \n",
       "\n",
       "    std_test_score  rank_test_score  split0_train_score  split1_train_score  \\\n",
       "24        0.055461                1            0.985185                 1.0   \n",
       "54        0.055461                1            0.985185                 1.0   \n",
       "48        0.055461                1            0.970356                 1.0   \n",
       "\n",
       "    split2_train_score  mean_train_score  std_train_score  \n",
       "24            0.985816          0.990334         0.006840  \n",
       "54            0.985816          0.990334         0.006840  \n",
       "48            0.957370          0.975908         0.017841  "
      ]
     },
     "execution_count": 62,
     "metadata": {},
     "output_type": "execute_result"
    }
   ],
   "source": [
    "from sklearn.svm import SVC\n",
    "\n",
    "model = Pipeline([\n",
    "    (\"scaler\", StandardScaler()),\n",
    "    (\"svc\",  SVC())\n",
    "])\n",
    "\n",
    "grid = {\n",
    "    \"scaler\": [None, StandardScaler()],\n",
    "    \"svc__kernel\": [\"linear\", \"poly\", \"rbf\"],\n",
    "    \"svc__C\": np.logspace(-6, 3, 10)\n",
    "}\n",
    "\n",
    "gs = GridSearchCV(model, grid, scoring=f1_multiclass, n_jobs=2)\n",
    "gs.fit(X_train, y_train)\n",
    "pd.DataFrame(gs.cv_results_).sort_values(\"rank_test_score\").head(3)"
   ]
  },
  {
   "cell_type": "markdown",
   "metadata": {},
   "source": [
    "Il modello migliore si ottiene senza standardizzazione dei dati, con kernel lineare e parametro C pari a `100`. Il modello così ottenuto ha una f1 score media di 0.96 sulle porzioni di training set usate per il test, leggermente inferiore ai modelli precedenti.\n",
    "\n",
    "Lo salviamo in una variabile"
   ]
  },
  {
   "cell_type": "code",
   "execution_count": 63,
   "metadata": {},
   "outputs": [],
   "source": [
    "svm_model = gs.best_estimator_"
   ]
  },
  {
   "cell_type": "markdown",
   "metadata": {},
   "source": [
    "Ciò che vogliamo fare ora è testare i tre modelli migliori sul validation set, che questi non hanno mai visto. Iniziamo misurando **l'accuratezza**"
   ]
  },
  {
   "cell_type": "code",
   "execution_count": 64,
   "metadata": {},
   "outputs": [
    {
     "name": "stdout",
     "output_type": "stream",
     "text": [
      "ACCURACY\n",
      "Perceptron:           1.0\n",
      "Logistic Regression:  0.98\n",
      "SVM:                  0.98\n"
     ]
    }
   ],
   "source": [
    "from sklearn.metrics import accuracy_score\n",
    "perc_acc = accuracy_score(y_val, perc_model.predict(X_val))\n",
    "lr_acc = accuracy_score(y_val, lr_model.predict(X_val))\n",
    "svm_acc = accuracy_score(y_val, svm_model.predict(X_val))\n",
    "print(\"ACCURACY\")\n",
    "print(\"Perceptron:           {}\".format(perc_acc))\n",
    "print(\"Logistic Regression:  {}\".format(lr_acc))\n",
    "print(\"SVM:                  {}\".format(svm_acc))"
   ]
  },
  {
   "cell_type": "markdown",
   "metadata": {},
   "source": [
    "Misuriamo poi la f1 **score**"
   ]
  },
  {
   "cell_type": "code",
   "execution_count": 65,
   "metadata": {},
   "outputs": [
    {
     "name": "stdout",
     "output_type": "stream",
     "text": [
      "F1 SCORE\n",
      "Perceptron:          1.0\n",
      "Logistic Regression: 0.978494623655914\n",
      "SVM:                 0.978494623655914\n"
     ]
    }
   ],
   "source": [
    "print(\"F1 SCORE\")\n",
    "print(\"Perceptron:          {}\".format(f1_score(y_val, perc_model.predict(X_val), average=\"macro\")))\n",
    "print(\"Logistic Regression: {}\".format(f1_score(y_val, lr_model.predict(X_val), average=\"macro\")))\n",
    "print(\"SVM:                 {}\".format(f1_score(y_val, svm_model.predict(X_val), average=\"macro\")))"
   ]
  },
  {
   "cell_type": "markdown",
   "metadata": {},
   "source": [
    "Sembra che il modello che fa uso del Perceptron sia leggermente migliore degli altri. "
   ]
  },
  {
   "cell_type": "markdown",
   "metadata": {},
   "source": [
    "Ciò che possiamo fare ora è stimare l'accuratezza di ciascuno di questi modelli sui dati futuri, conoscendo l'accuratezza di questi sul test set (nel nostro caso chiamato validation set, ma funge da test set) e la cardinalità di questo insieme. Stabilita la confidenza con la quale vogliamo determinare l'accuratezza futura, ciò che otterremo sarà un intervallo all'interno del quale questa si troverà. \n",
    "\n",
    "Quello che stiamo facendo è modellare la classificazione come un processo di Bernoulli, dunque approssimiamo la distribuzione di $f$ (l'accuratezza sul test set) a una distribuzione normale standardizzata con media $p$, dove $p$ è proprio l'accuratezza che si vuole determinare. Per comprendere quanto segue si sappia unicamente che la funzione `accuracy_interval` permette proprio di ricavare l'intervallo all'interno del quale $p$ si troverà"
   ]
  },
  {
   "cell_type": "markdown",
   "metadata": {},
   "source": [
    "Definiamo una funzione che ci permetta di ricavare il parametro Z a partire dalla confidenza desiderata"
   ]
  },
  {
   "cell_type": "code",
   "execution_count": 66,
   "metadata": {},
   "outputs": [],
   "source": [
    "from scipy import stats as st\n",
    "def get_Z(conf):\n",
    "    alpha = 1 - conf\n",
    "    alpha2 = alpha / 2\n",
    "    return st.norm.ppf(conf + alpha2)"
   ]
  },
  {
   "cell_type": "markdown",
   "metadata": {},
   "source": [
    "Definiamo infine una funzione che ci permetta di ricavare l'intervallo di accuratezza futura"
   ]
  },
  {
   "cell_type": "code",
   "execution_count": 67,
   "metadata": {},
   "outputs": [],
   "source": [
    "import math\n",
    "def accuracy_interval(acc, N, conf=0.95):\n",
    "    Z = get_Z(conf)\n",
    "    Z2 = Z*Z\n",
    "    p1 = (2*N*acc + Z2 - Z*math.sqrt(Z2 + 4*N*acc - 4*N*(acc*acc))) / (2*(N + Z2))\n",
    "    p2 = (2*N*acc + Z2 + Z*math.sqrt(Z2 + 4*N*acc - 4*N*(acc*acc))) / (2*(N + Z2))\n",
    "    return (p1, p2)"
   ]
  },
  {
   "cell_type": "markdown",
   "metadata": {},
   "source": [
    "Ricaviamo, per ciascuno dei nostri modelli, l'intervallo all'interno del quale cadrà l'accuratezza futura con una confidenza (cioè con una probabilità) del 95%"
   ]
  },
  {
   "cell_type": "code",
   "execution_count": 68,
   "metadata": {},
   "outputs": [
    {
     "name": "stdout",
     "output_type": "stream",
     "text": [
      "FUTURE ACCURACY INTERVAL\n",
      "Perceptron:          (0.9286524008666412, 1.0)\n",
      "Logistic Regression: (0.8950455641036218, 0.9964607407283538)\n",
      "SVM:                 (0.8950455641036218, 0.9964607407283538)\n"
     ]
    }
   ],
   "source": [
    "print(\"FUTURE ACCURACY INTERVAL\")\n",
    "print(\"Perceptron:          {}\".format(accuracy_interval(perc_acc, len(X_val))))\n",
    "print(\"Logistic Regression: {}\".format(accuracy_interval(lr_acc, len(X_val))))\n",
    "print(\"SVM:                 {}\".format(accuracy_interval(svm_acc, len(X_val))))"
   ]
  },
  {
   "cell_type": "markdown",
   "metadata": {},
   "source": [
    "Come prevedibile, il modello che fa uso del Perceptron sembra poco più avvantaggiato. Ciò che possiamo fare ora è stabilire se la differenza tra questo modello e gli altri due sia statisticamente significativa. Modelliamo dunque la differenza $d$ tra le accuratezze con una distribuzione normale: $d$~$N(d_t, \\sigma_t)$ e definiamo una funzione che ci permetta di ricavare l'intervallo all'interno del quale si troverà $d_t$"
   ]
  },
  {
   "cell_type": "code",
   "execution_count": 69,
   "metadata": {},
   "outputs": [],
   "source": [
    "def get_difference_interval(e1, e2, n1, n2, conf=0.95):\n",
    "    Z = get_Z(conf)\n",
    "    d = abs(e1 - e2)\n",
    "    sigma2 = (e1*(1 - e1))/n1 + (e2*(1 - e2))/n2\n",
    "    d1 = d - Z*math.sqrt(sigma2)\n",
    "    d2 = d + Z*math.sqrt(sigma2)\n",
    "    return (d1, d2)"
   ]
  },
  {
   "cell_type": "markdown",
   "metadata": {},
   "source": [
    "Ricaviamo tale intervallo per il modello che fa uso del Perceptron e quello che fa uso di regressione logistica, ciò che otteniamo è che l'intervallo contiene 0 e dunque la differenza tra i due modelli non è statisticamente significativa, ossia è solo frutto del caso. Essendo che la cardinalità del test set è appena di 50 osservazioni, questo risultato era facilmente intuibile.\n",
    "\n",
    "Si noti che misurando la differenza tra il modello che fa uso del perceptron e quello basato su svm otterremmo lo stesso risultato in quanto l'accuratezza di quest'ultimo sul test set è identica all'accuratezza del modello basato su regressione logistica"
   ]
  },
  {
   "cell_type": "code",
   "execution_count": 70,
   "metadata": {},
   "outputs": [
    {
     "data": {
      "text/plain": [
       "(-0.01880530708179097, 0.058805307081791006)"
      ]
     },
     "execution_count": 70,
     "metadata": {},
     "output_type": "execute_result"
    }
   ],
   "source": [
    "get_difference_interval(1 - perc_acc, 1 - lr_acc, len(X_val), len(X_val))"
   ]
  },
  {
   "cell_type": "markdown",
   "metadata": {},
   "source": [
    "Avendo dimostrato che il leggero vantaggio del modello basato sul perceptron è solo frutto del caso, la scelta del modello finale potrebbe ricadere indifferentemente su uno qualsiasi di questi. Nel nostro caso scegliamo appunto il modello che fa uso del perceptron.\n",
    "\n",
    "Una scelta forse più furba è quella di usare congiuntamente i tre modelli per le previsioni future, avvalendosi dell'_ensembling_"
   ]
  },
  {
   "cell_type": "markdown",
   "metadata": {},
   "source": [
    "## Interpretazione della conoscenza\n",
    "\n",
    "Vogliamo ora vedere _quali_ feature sono più influenti nel modello scelto, per fare questo osserviamo i coefficenti di ciascuno dei tre iperpiani trovati. Per semplicità consideriamo unicamente i coefficenti relativi ai termini di primo grado e ai termini che rappresentano la correlazione tra quelli di primo grado"
   ]
  },
  {
   "cell_type": "markdown",
   "metadata": {},
   "source": [
    "Consideriamo il primo iperpiano: questo separa le osservazioni di _iris virginica_ dalle altre, affianchiamo i coefficenti trovati ai nomi delle feature"
   ]
  },
  {
   "cell_type": "code",
   "execution_count": 71,
   "metadata": {},
   "outputs": [],
   "source": [
    "indx = X_train.columns.append(pd.Index([\"SepalLengthCm^2\", \n",
    "                                        \"SepalLengthCm * SepalWidthCm\", \n",
    "                                        \"SepalLengthCm * PetalLengthCm\", \n",
    "                                        \"SepalLengthCm * PetalWidthCm\", \n",
    "                                        \"SepalWidthCm^2\", \n",
    "                                        \"SepalWidthCm * PetalLengthCm\", \n",
    "                                        \"SepalWidthCm * PetalWidthCm\", \n",
    "                                        \"PetalLengthCm^2\",\n",
    "                                        \"PetalLengthCm * PetalWidthCm\"]))"
   ]
  },
  {
   "cell_type": "code",
   "execution_count": 72,
   "metadata": {},
   "outputs": [],
   "source": [
    "coefs = perc_model.named_steps[\"perc\"].coef_"
   ]
  },
  {
   "cell_type": "markdown",
   "metadata": {},
   "source": [
    "Si ricorda che questi coefficenti sono standardizzati, per interpretarli nel dominio originale vanno destandardizzati. A noi vanno bene così in quanto ci permettono di vedere facilmente quali sono le feature che \"pesano\" di più, indipendentemente dalla scala di valori che queste assumo nel dominio originale. \n",
    "\n",
    "Nel caso del primo iperpiano le tre caratteristiche maggiormente influenti sono: lunghezza del sepalo, correlazione tra lunghezza e larghezza del sepalo e correlazione tra le larghezze dei due tratti. Dunque le decisioni vengono prese considerando per lo più il **sepalo**"
   ]
  },
  {
   "cell_type": "code",
   "execution_count": 73,
   "metadata": {},
   "outputs": [
    {
     "data": {
      "text/plain": [
       "SepalLengthCm                   -2.536656\n",
       "SepalWidthCm                    -0.046627\n",
       "PetalLengthCm                   -0.662590\n",
       "PetalWidthCm                    -0.916573\n",
       "SepalLengthCm * SepalWidthCm    -2.097470\n",
       "SepalLengthCm * PetalLengthCm   -0.350683\n",
       "SepalLengthCm * PetalWidthCm    -0.684804\n",
       "SepalWidthCm * PetalLengthCm    -1.844888\n",
       "SepalWidthCm * PetalWidthCm     -1.989984\n",
       "PetalLengthCm * PetalWidthCm     1.192462\n",
       "dtype: float64"
      ]
     },
     "execution_count": 73,
     "metadata": {},
     "output_type": "execute_result"
    }
   ],
   "source": [
    "pd.Series(coefs[0][:13], indx).drop([\"SepalLengthCm^2\", \"SepalWidthCm^2\", \"PetalLengthCm^2\"])"
   ]
  },
  {
   "cell_type": "markdown",
   "metadata": {},
   "source": [
    "Nel caso del secondo iperpiano le tre caratteristiche maggiormente influenti sono: larghezza del sepalo, lunghezza del petalo e correlazione tra le lunghezze dei due tratti. In questo caso non c'è un tratto che prevale sull'altro per importanza"
   ]
  },
  {
   "cell_type": "code",
   "execution_count": 74,
   "metadata": {},
   "outputs": [
    {
     "data": {
      "text/plain": [
       "SepalLengthCm                   -1.080910\n",
       "SepalWidthCm                     2.423661\n",
       "PetalLengthCm                   -1.474827\n",
       "PetalWidthCm                    -0.927312\n",
       "SepalLengthCm * SepalWidthCm     0.824497\n",
       "SepalLengthCm * PetalLengthCm   -1.157630\n",
       "SepalLengthCm * PetalWidthCm    -0.757020\n",
       "SepalWidthCm * PetalLengthCm    -0.977521\n",
       "SepalWidthCm * PetalWidthCm     -0.706687\n",
       "PetalLengthCm * PetalWidthCm    -0.536565\n",
       "dtype: float64"
      ]
     },
     "execution_count": 74,
     "metadata": {},
     "output_type": "execute_result"
    }
   ],
   "source": [
    "pd.Series(coefs[1][:13], indx).drop([\"SepalLengthCm^2\", \"SepalWidthCm^2\", \"PetalLengthCm^2\"])"
   ]
  },
  {
   "cell_type": "markdown",
   "metadata": {},
   "source": [
    "Nel caso del terzo iperpiano le tre caratteristiche maggiormente influenti sono: larghezza del petalo, lunghezza del petalo e correlazione tra le larghezze dei due tratti. In questo caso le informazioni più significative provengono dal **petalo**"
   ]
  },
  {
   "cell_type": "code",
   "execution_count": 75,
   "metadata": {},
   "outputs": [
    {
     "data": {
      "text/plain": [
       "SepalLengthCm                    3.493118\n",
       "SepalWidthCm                    -4.448004\n",
       "PetalLengthCm                    7.707965\n",
       "PetalWidthCm                     8.023567\n",
       "SepalLengthCm * SepalWidthCm    -0.418566\n",
       "SepalLengthCm * PetalLengthCm    3.624429\n",
       "SepalLengthCm * PetalWidthCm     4.516591\n",
       "SepalWidthCm * PetalLengthCm     6.810834\n",
       "SepalWidthCm * PetalWidthCm      7.645771\n",
       "PetalLengthCm * PetalWidthCm     0.727281\n",
       "dtype: float64"
      ]
     },
     "execution_count": 75,
     "metadata": {},
     "output_type": "execute_result"
    }
   ],
   "source": [
    "pd.Series(coefs[2][:13], indx).drop([\"SepalLengthCm^2\", \"SepalWidthCm^2\", \"PetalLengthCm^2\"])"
   ]
  },
  {
   "cell_type": "markdown",
   "metadata": {},
   "source": [
    "## Interpretazione geometrica\n",
    "\n",
    "Come ultima cosa, possiamo pensare di allenare nuovamente i nostri modelli sul DataFrame `iris_petal`, in modo da fornire un'interpretazione geometrica di questi"
   ]
  },
  {
   "cell_type": "code",
   "execution_count": 76,
   "metadata": {},
   "outputs": [],
   "source": [
    "X_train, X_val, y_train, y_val = train_test_split(\n",
    "    iris_petal.drop([\"Species\"], axis=1),\n",
    "    iris_petal[\"Species\"],            \n",
    "    test_size=1/3, random_state=42\n",
    ")"
   ]
  },
  {
   "cell_type": "code",
   "execution_count": 77,
   "metadata": {},
   "outputs": [
    {
     "data": {
      "text/plain": [
       "1.0"
      ]
     },
     "execution_count": 77,
     "metadata": {},
     "output_type": "execute_result"
    }
   ],
   "source": [
    "perc_model.fit(X_train, y_train)\n",
    "perc_model.score(X_val, y_val)"
   ]
  },
  {
   "cell_type": "markdown",
   "metadata": {},
   "source": [
    "Vediamo i decision boundaries del modello basato su perceptron"
   ]
  },
  {
   "cell_type": "code",
   "execution_count": 78,
   "metadata": {},
   "outputs": [
    {
     "data": {
      "image/png": "[encoded data removed]",
      "text/plain": [
       "<Figure size 432x288 with 1 Axes>"
      ]
     },
     "metadata": {
      "needs_background": "light"
     },
     "output_type": "display_data"
    }
   ],
   "source": [
    "plot_decision_boundaries(perc_model.predict)"
   ]
  },
  {
   "cell_type": "code",
   "execution_count": 79,
   "metadata": {},
   "outputs": [
    {
     "data": {
      "text/plain": [
       "0.94"
      ]
     },
     "execution_count": 79,
     "metadata": {},
     "output_type": "execute_result"
    }
   ],
   "source": [
    "lr_model.fit(X_train, y_train)\n",
    "lr_model.score(X_val, y_val)"
   ]
  },
  {
   "cell_type": "markdown",
   "metadata": {},
   "source": [
    "Vediamo i decision boundaries del modello basato su regressione logistica"
   ]
  },
  {
   "cell_type": "code",
   "execution_count": 80,
   "metadata": {},
   "outputs": [
    {
     "data": {
      "image/png": "[encoded data removed]",
      "text/plain": [
       "<Figure size 432x288 with 1 Axes>"
      ]
     },
     "metadata": {
      "needs_background": "light"
     },
     "output_type": "display_data"
    }
   ],
   "source": [
    "plot_decision_boundaries(lr_model.predict)"
   ]
  },
  {
   "cell_type": "code",
   "execution_count": 81,
   "metadata": {},
   "outputs": [
    {
     "data": {
      "text/plain": [
       "0.98"
      ]
     },
     "execution_count": 81,
     "metadata": {},
     "output_type": "execute_result"
    }
   ],
   "source": [
    "svm_model.fit(X_train, y_train)\n",
    "svm_model.score(X_val, y_val)"
   ]
  },
  {
   "cell_type": "markdown",
   "metadata": {},
   "source": [
    "Per il modello basato su svm, evidenziamo di rosso i support vectors, ossia i punti più vicini ai bordi, che vengono usati per effettuare le predizioni"
   ]
  },
  {
   "cell_type": "code",
   "execution_count": 82,
   "metadata": {},
   "outputs": [
    {
     "data": {
      "image/png": "[encoded data removed]",
      "text/plain": [
       "<Figure size 432x288 with 1 Axes>"
      ]
     },
     "metadata": {
      "needs_background": "light"
     },
     "output_type": "display_data"
    }
   ],
   "source": [
    "plot_decision_boundaries(svm_model.predict)\n",
    "for point in svm_model.named_steps[\"svc\"].support_vectors_:\n",
    "    plt.plot(point[0], point[1], 'ro')"
   ]
  },
  {
   "cell_type": "markdown",
   "metadata": {},
   "source": [
    "Osserviamo che i tre modelli risultano meno aderenti ai dati rispetto al primo modello, possiamo pensare che saranno più precisi di questo sui dati futuri"
   ]
  },
  {
   "cell_type": "markdown",
   "metadata": {},
   "source": [
    "## Appendice: ensembling\n",
    "\n",
    "Definiamo una funzione che ci permetta di predire la specie di un'osservazione x usando i tre modelli descritti sopra in modo congiunto. La tecnica di ensembling qui è del tutto banale: viene definita la probabilità di appartenenza a ogni classe facendo la media delle probabilità espresse dai tre modelli per tale classe, la classe assegnata è quella con maggiore probabilità"
   ]
  },
  {
   "cell_type": "code",
   "execution_count": 83,
   "metadata": {},
   "outputs": [],
   "source": [
    "def ensemble_predict(x):\n",
    "    perc_prob = perc_model.decision_function(x)[0]\n",
    "    lr_prob = lr_model.decision_function(x)[0]\n",
    "    svm_prob = svm_model.decision_function(x)[0]\n",
    "    prob_c1 = (perc_prob[0] + lr_prob[0] + svm_prob[0])/3\n",
    "    prob_c2 = (perc_prob[1] + lr_prob[1] + svm_prob[1])/3\n",
    "    prob_c3 = (perc_prob[2] + lr_prob[2] + svm_prob[2])/3\n",
    "    max_prob = prob_c1\n",
    "    c = 1\n",
    "    if prob_c2 > max_prob:\n",
    "        max_prob = prob_c2\n",
    "        c = 2\n",
    "    if prob_c3 > max_prob:\n",
    "        max_prob = prob_c3\n",
    "        c = 3\n",
    "    return c\n",
    "\n",
    "def ensemble_predict_aggregate(X):\n",
    "    y = []\n",
    "    for i in range(0, len(X)):\n",
    "        if isinstance(X, pd.DataFrame):\n",
    "            y.append(ensemble_predict(X.iloc[[i], :]))\n",
    "        else:\n",
    "            y.append(ensemble_predict(X[[i], :]))\n",
    "    return np.array(y)"
   ]
  },
  {
   "cell_type": "markdown",
   "metadata": {},
   "source": [
    "Visualizziamo i decision boundaries ottenuti dall'ensembling dei tre modelli"
   ]
  },
  {
   "cell_type": "code",
   "execution_count": 84,
   "metadata": {},
   "outputs": [
    {
     "data": {
      "image/png": "[encoded data removed]",
      "text/plain": [
       "<Figure size 432x288 with 1 Axes>"
      ]
     },
     "metadata": {
      "needs_background": "light"
     },
     "output_type": "display_data"
    }
   ],
   "source": [
    "plot_decision_boundaries(ensemble_predict_aggregate)"
   ]
  }
 ],
 "metadata": {
  "kernelspec": {
   "display_name": "Python (iris)",
   "language": "python",
   "name": "iris"
  },
  "language_info": {
   "codemirror_mode": {
    "name": "ipython",
    "version": 3
   },
   "file_extension": ".py",
   "mimetype": "text/x-python",
   "name": "python",
   "nbconvert_exporter": "python",
   "pygments_lexer": "ipython3",
   "version": "3.7.1"
  }
 },
 "nbformat": 4,
 "nbformat_minor": 2
}
